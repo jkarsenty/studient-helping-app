{
  "nbformat": 4,
  "nbformat_minor": 0,
  "metadata": {
    "colab": {
      "name": "School_Level_EDA.ipynb",
      "provenance": [],
      "collapsed_sections": [],
      "toc_visible": true
    },
    "kernelspec": {
      "name": "python3",
      "display_name": "Python 3"
    },
    "language_info": {
      "name": "python"
    }
  },
  "cells": [
    {
      "cell_type": "markdown",
      "source": [
        "#School Level Detection"
      ],
      "metadata": {
        "id": "nkX7MfYLFt-v"
      }
    },
    {
      "cell_type": "markdown",
      "source": [
        "### Attribute Information:\n",
        "- 0 StudentID - a unique ID identifying each student\n",
        "\n",
        "- 1 FirstName\n",
        "\n",
        "- 2 FamilyName\n",
        "\n",
        "- 3 school - student's school (binary: 'GP' - Gabriel Pereira or 'MS' - Mousinho da Silveira)  \n",
        "\n",
        "- 4 sex - student's sex (binary: 'F' - female or 'M' - male)  \n",
        "\n",
        "- 5 age - student's age (numeric: from 15 to 22)  \n",
        "\n",
        "- 6 address - student's home address type (binary: 'U' - urban or 'R' - rural)  \n",
        "\n",
        "- 7 famsize - family size (binary: 'LE3' - less or equal to 3 or 'GT3' - greater than 3)  \n",
        "\n",
        "- 8 Pstatus - parent's cohabitation status (binary: 'T' - living together or 'A' - apart)  \n",
        "\n",
        "- 9 Medu - mother's education (numeric: 0 - none, 1 - primary education (4th grade), 2 - 5th to 9th grade, 3 - secondary education or 4 - higher education)  \n",
        "\n",
        "- 10 Fedu - father's education (numeric: 0 - none, 1 - primary education (4th grade), 2 - 5th to 9th grade, 3 - secondary education or 4 - higher education)  \n",
        "\n",
        "- 11 Mjob - mother's job (nominal: 'teacher', 'health' care related, civil 'services' (e.g. administrative or police), 'at_home' or 'other')  \n",
        "\n",
        "- 12 Fjob - father's job (nominal: 'teacher', 'health' care related, civil 'services' (e.g. administrative or police), 'at_home' or 'other')  \n",
        "\n",
        "- 13 reason - reason to choose this school (nominal: close to 'home', school 'reputation', 'course' preference or 'other')  \n",
        "\n",
        "- 14 guardian - student's guardian (nominal: 'mother', 'father' or 'other')  \n",
        "\n",
        "- 15 traveltime - home to school travel time (numeric: 1 - <15 min., 2 - 15 to 30 min., 3 - 30 min. to 1 hour, or 4 - >1 hour)  \n",
        "\n",
        "- 16 studytime - weekly study time (numeric: 1 - <2 hours, 2 - 2 to 5 hours, 3 - 5 to 10 hours, or 4 - >10 hours)  \n",
        "\n",
        "- 17 failures - number of past class failures (numeric: n if 1<=n<3, else 4)  \n",
        "\n",
        "- 18 schoolsup - extra educational support (binary: yes or no)  \n",
        "\n",
        "- 19 famsup - family educational support (binary: yes or no)  \n",
        "\n",
        "- 20 paid - extra paid classes within the course subject (Math or Portuguese) (binary: yes or no)  \n",
        "\n",
        "- 21 activities - extracurricular activities (binary: yes or no)  \n",
        "\n",
        "- 22 nursery - attended nursery school (binary: yes or no)  \n",
        "\n",
        "- 23 higher - wants to take higher education (binary: yes or no)  \n",
        "\n",
        "- 24 internet - Internet access at home (binary: yes or no)  \n",
        "\n",
        "- 25 romantic - with a romantic relationship (binary: yes or no)  \n",
        "\n",
        "- 26 famrel - quality of family relationships (numeric: from 1 - very bad to 5 - excellent)  \n",
        "\n",
        "- 27 freetime - free time after school (numeric: from 1 - very low to 5 - very high)  \n",
        "\n",
        "- 28 goout - going out with friends (numeric: from 1 - very low to 5 - very high)  \n",
        "\n",
        "- 29 Dalc - workday alcohol consumption (numeric: from 1 - very low to 5 - very high)  \n",
        "\n",
        "- 30 Walc - weekend alcohol consumption (numeric: from 1 - very low to 5 - very high)  \n",
        "\n",
        "- 31 health - current health status (numeric: from 1 - very bad to 5 - very good)  \n",
        "\n",
        "- 32 absences - number of school absences (numeric: from 0 to 93)  \n",
        "\n",
        "- 33 FinalGrade - final grade in mathematics (numeric: from 0 to 20, output target)"
      ],
      "metadata": {
        "id": "Y9Q5Su_JR1XI"
      }
    },
    {
      "cell_type": "markdown",
      "source": [
        "## Mount drive"
      ],
      "metadata": {
        "id": "PKOLRc5kGBTg"
      }
    },
    {
      "cell_type": "code",
      "source": [
        "from google.colab import drive\n",
        "drive.mount('/content/drive')"
      ],
      "metadata": {
        "colab": {
          "base_uri": "https://localhost:8080/"
        },
        "id": "ooYlkT3tGFjp",
        "outputId": "cfe906fe-f398-46f8-fde9-9d0b6e7fc53e"
      },
      "execution_count": 1,
      "outputs": [
        {
          "output_type": "stream",
          "name": "stdout",
          "text": [
            "Mounted at /content/drive\n"
          ]
        }
      ]
    },
    {
      "cell_type": "markdown",
      "source": [
        "## Libraries"
      ],
      "metadata": {
        "id": "NPA9B04CF5tV"
      }
    },
    {
      "cell_type": "code",
      "execution_count": 2,
      "metadata": {
        "id": "VLvaiSSRDK81"
      },
      "outputs": [],
      "source": [
        "import os\n",
        "import numpy as np\n",
        "import pandas as pd\n",
        "import matplotlib.pyplot as plt\n",
        "import seaborn as sns"
      ]
    },
    {
      "cell_type": "markdown",
      "source": [
        "## Import Data"
      ],
      "metadata": {
        "id": "uFjc5nCiHmQy"
      }
    },
    {
      "cell_type": "code",
      "source": [
        "main_folder = \"/content/drive/MyDrive/Ekinox\"\n",
        "data_file = os.path.join(main_folder,\"student_data.csv\")"
      ],
      "metadata": {
        "id": "fPgysFqFF_M0"
      },
      "execution_count": 3,
      "outputs": []
    },
    {
      "cell_type": "code",
      "source": [
        "df = pd.read_csv(data_file)\n",
        "print(f\"Shape of the Dataframe : {df.shape[0]} lines and {df.shape[1]} columns.\")\n",
        "display(df.head())"
      ],
      "metadata": {
        "colab": {
          "base_uri": "https://localhost:8080/",
          "height": 314
        },
        "id": "7okzsdxtH9ti",
        "outputId": "87d6c574-cb86-4d05-a59e-7c20e885a514"
      },
      "execution_count": 4,
      "outputs": [
        {
          "output_type": "stream",
          "name": "stdout",
          "text": [
            "Shape of the Dataframe : 357 lines and 34 columns.\n"
          ]
        },
        {
          "output_type": "display_data",
          "data": {
            "text/plain": [
              "   StudentID FirstName FamilyName school sex  age address famsize Pstatus  \\\n",
              "0          0    Rafael     Morais     GP   F   18       U     GT3       A   \n",
              "1          1      Lara      Braga     GP   F   17       U     GT3       T   \n",
              "2          2   Gonçalo    Azevedo     GP   F   15       U     LE3       T   \n",
              "3          3      Lara      Perna     GP   F   15       U     GT3       T   \n",
              "4          4      João      Pires     GP   F   16       U     GT3       T   \n",
              "\n",
              "   Medu  ...  internet romantic famrel freetime goout  Dalc  Walc  health  \\\n",
              "0     4  ...        no       no      4        3     4     1     1       3   \n",
              "1     1  ...       yes       no      5        3     3     1     1       3   \n",
              "2     1  ...       yes       no      4        3     2     2     3       3   \n",
              "3     4  ...       yes      yes      3        2     2     1     1       5   \n",
              "4     3  ...        no       no      4        3     2     1     2       5   \n",
              "\n",
              "  absences FinalGrade  \n",
              "0        6          6  \n",
              "1        4          6  \n",
              "2       10         10  \n",
              "3        2         15  \n",
              "4        4         10  \n",
              "\n",
              "[5 rows x 34 columns]"
            ],
            "text/html": [
              "\n",
              "  <div id=\"df-f0d28715-1d07-48aa-9af9-e8091334e139\">\n",
              "    <div class=\"colab-df-container\">\n",
              "      <div>\n",
              "<style scoped>\n",
              "    .dataframe tbody tr th:only-of-type {\n",
              "        vertical-align: middle;\n",
              "    }\n",
              "\n",
              "    .dataframe tbody tr th {\n",
              "        vertical-align: top;\n",
              "    }\n",
              "\n",
              "    .dataframe thead th {\n",
              "        text-align: right;\n",
              "    }\n",
              "</style>\n",
              "<table border=\"1\" class=\"dataframe\">\n",
              "  <thead>\n",
              "    <tr style=\"text-align: right;\">\n",
              "      <th></th>\n",
              "      <th>StudentID</th>\n",
              "      <th>FirstName</th>\n",
              "      <th>FamilyName</th>\n",
              "      <th>school</th>\n",
              "      <th>sex</th>\n",
              "      <th>age</th>\n",
              "      <th>address</th>\n",
              "      <th>famsize</th>\n",
              "      <th>Pstatus</th>\n",
              "      <th>Medu</th>\n",
              "      <th>...</th>\n",
              "      <th>internet</th>\n",
              "      <th>romantic</th>\n",
              "      <th>famrel</th>\n",
              "      <th>freetime</th>\n",
              "      <th>goout</th>\n",
              "      <th>Dalc</th>\n",
              "      <th>Walc</th>\n",
              "      <th>health</th>\n",
              "      <th>absences</th>\n",
              "      <th>FinalGrade</th>\n",
              "    </tr>\n",
              "  </thead>\n",
              "  <tbody>\n",
              "    <tr>\n",
              "      <th>0</th>\n",
              "      <td>0</td>\n",
              "      <td>Rafael</td>\n",
              "      <td>Morais</td>\n",
              "      <td>GP</td>\n",
              "      <td>F</td>\n",
              "      <td>18</td>\n",
              "      <td>U</td>\n",
              "      <td>GT3</td>\n",
              "      <td>A</td>\n",
              "      <td>4</td>\n",
              "      <td>...</td>\n",
              "      <td>no</td>\n",
              "      <td>no</td>\n",
              "      <td>4</td>\n",
              "      <td>3</td>\n",
              "      <td>4</td>\n",
              "      <td>1</td>\n",
              "      <td>1</td>\n",
              "      <td>3</td>\n",
              "      <td>6</td>\n",
              "      <td>6</td>\n",
              "    </tr>\n",
              "    <tr>\n",
              "      <th>1</th>\n",
              "      <td>1</td>\n",
              "      <td>Lara</td>\n",
              "      <td>Braga</td>\n",
              "      <td>GP</td>\n",
              "      <td>F</td>\n",
              "      <td>17</td>\n",
              "      <td>U</td>\n",
              "      <td>GT3</td>\n",
              "      <td>T</td>\n",
              "      <td>1</td>\n",
              "      <td>...</td>\n",
              "      <td>yes</td>\n",
              "      <td>no</td>\n",
              "      <td>5</td>\n",
              "      <td>3</td>\n",
              "      <td>3</td>\n",
              "      <td>1</td>\n",
              "      <td>1</td>\n",
              "      <td>3</td>\n",
              "      <td>4</td>\n",
              "      <td>6</td>\n",
              "    </tr>\n",
              "    <tr>\n",
              "      <th>2</th>\n",
              "      <td>2</td>\n",
              "      <td>Gonçalo</td>\n",
              "      <td>Azevedo</td>\n",
              "      <td>GP</td>\n",
              "      <td>F</td>\n",
              "      <td>15</td>\n",
              "      <td>U</td>\n",
              "      <td>LE3</td>\n",
              "      <td>T</td>\n",
              "      <td>1</td>\n",
              "      <td>...</td>\n",
              "      <td>yes</td>\n",
              "      <td>no</td>\n",
              "      <td>4</td>\n",
              "      <td>3</td>\n",
              "      <td>2</td>\n",
              "      <td>2</td>\n",
              "      <td>3</td>\n",
              "      <td>3</td>\n",
              "      <td>10</td>\n",
              "      <td>10</td>\n",
              "    </tr>\n",
              "    <tr>\n",
              "      <th>3</th>\n",
              "      <td>3</td>\n",
              "      <td>Lara</td>\n",
              "      <td>Perna</td>\n",
              "      <td>GP</td>\n",
              "      <td>F</td>\n",
              "      <td>15</td>\n",
              "      <td>U</td>\n",
              "      <td>GT3</td>\n",
              "      <td>T</td>\n",
              "      <td>4</td>\n",
              "      <td>...</td>\n",
              "      <td>yes</td>\n",
              "      <td>yes</td>\n",
              "      <td>3</td>\n",
              "      <td>2</td>\n",
              "      <td>2</td>\n",
              "      <td>1</td>\n",
              "      <td>1</td>\n",
              "      <td>5</td>\n",
              "      <td>2</td>\n",
              "      <td>15</td>\n",
              "    </tr>\n",
              "    <tr>\n",
              "      <th>4</th>\n",
              "      <td>4</td>\n",
              "      <td>João</td>\n",
              "      <td>Pires</td>\n",
              "      <td>GP</td>\n",
              "      <td>F</td>\n",
              "      <td>16</td>\n",
              "      <td>U</td>\n",
              "      <td>GT3</td>\n",
              "      <td>T</td>\n",
              "      <td>3</td>\n",
              "      <td>...</td>\n",
              "      <td>no</td>\n",
              "      <td>no</td>\n",
              "      <td>4</td>\n",
              "      <td>3</td>\n",
              "      <td>2</td>\n",
              "      <td>1</td>\n",
              "      <td>2</td>\n",
              "      <td>5</td>\n",
              "      <td>4</td>\n",
              "      <td>10</td>\n",
              "    </tr>\n",
              "  </tbody>\n",
              "</table>\n",
              "<p>5 rows × 34 columns</p>\n",
              "</div>\n",
              "      <button class=\"colab-df-convert\" onclick=\"convertToInteractive('df-f0d28715-1d07-48aa-9af9-e8091334e139')\"\n",
              "              title=\"Convert this dataframe to an interactive table.\"\n",
              "              style=\"display:none;\">\n",
              "        \n",
              "  <svg xmlns=\"http://www.w3.org/2000/svg\" height=\"24px\"viewBox=\"0 0 24 24\"\n",
              "       width=\"24px\">\n",
              "    <path d=\"M0 0h24v24H0V0z\" fill=\"none\"/>\n",
              "    <path d=\"M18.56 5.44l.94 2.06.94-2.06 2.06-.94-2.06-.94-.94-2.06-.94 2.06-2.06.94zm-11 1L8.5 8.5l.94-2.06 2.06-.94-2.06-.94L8.5 2.5l-.94 2.06-2.06.94zm10 10l.94 2.06.94-2.06 2.06-.94-2.06-.94-.94-2.06-.94 2.06-2.06.94z\"/><path d=\"M17.41 7.96l-1.37-1.37c-.4-.4-.92-.59-1.43-.59-.52 0-1.04.2-1.43.59L10.3 9.45l-7.72 7.72c-.78.78-.78 2.05 0 2.83L4 21.41c.39.39.9.59 1.41.59.51 0 1.02-.2 1.41-.59l7.78-7.78 2.81-2.81c.8-.78.8-2.07 0-2.86zM5.41 20L4 18.59l7.72-7.72 1.47 1.35L5.41 20z\"/>\n",
              "  </svg>\n",
              "      </button>\n",
              "      \n",
              "  <style>\n",
              "    .colab-df-container {\n",
              "      display:flex;\n",
              "      flex-wrap:wrap;\n",
              "      gap: 12px;\n",
              "    }\n",
              "\n",
              "    .colab-df-convert {\n",
              "      background-color: #E8F0FE;\n",
              "      border: none;\n",
              "      border-radius: 50%;\n",
              "      cursor: pointer;\n",
              "      display: none;\n",
              "      fill: #1967D2;\n",
              "      height: 32px;\n",
              "      padding: 0 0 0 0;\n",
              "      width: 32px;\n",
              "    }\n",
              "\n",
              "    .colab-df-convert:hover {\n",
              "      background-color: #E2EBFA;\n",
              "      box-shadow: 0px 1px 2px rgba(60, 64, 67, 0.3), 0px 1px 3px 1px rgba(60, 64, 67, 0.15);\n",
              "      fill: #174EA6;\n",
              "    }\n",
              "\n",
              "    [theme=dark] .colab-df-convert {\n",
              "      background-color: #3B4455;\n",
              "      fill: #D2E3FC;\n",
              "    }\n",
              "\n",
              "    [theme=dark] .colab-df-convert:hover {\n",
              "      background-color: #434B5C;\n",
              "      box-shadow: 0px 1px 3px 1px rgba(0, 0, 0, 0.15);\n",
              "      filter: drop-shadow(0px 1px 2px rgba(0, 0, 0, 0.3));\n",
              "      fill: #FFFFFF;\n",
              "    }\n",
              "  </style>\n",
              "\n",
              "      <script>\n",
              "        const buttonEl =\n",
              "          document.querySelector('#df-f0d28715-1d07-48aa-9af9-e8091334e139 button.colab-df-convert');\n",
              "        buttonEl.style.display =\n",
              "          google.colab.kernel.accessAllowed ? 'block' : 'none';\n",
              "\n",
              "        async function convertToInteractive(key) {\n",
              "          const element = document.querySelector('#df-f0d28715-1d07-48aa-9af9-e8091334e139');\n",
              "          const dataTable =\n",
              "            await google.colab.kernel.invokeFunction('convertToInteractive',\n",
              "                                                     [key], {});\n",
              "          if (!dataTable) return;\n",
              "\n",
              "          const docLinkHtml = 'Like what you see? Visit the ' +\n",
              "            '<a target=\"_blank\" href=https://colab.research.google.com/notebooks/data_table.ipynb>data table notebook</a>'\n",
              "            + ' to learn more about interactive tables.';\n",
              "          element.innerHTML = '';\n",
              "          dataTable['output_type'] = 'display_data';\n",
              "          await google.colab.output.renderOutput(dataTable, element);\n",
              "          const docLink = document.createElement('div');\n",
              "          docLink.innerHTML = docLinkHtml;\n",
              "          element.appendChild(docLink);\n",
              "        }\n",
              "      </script>\n",
              "    </div>\n",
              "  </div>\n",
              "  "
            ]
          },
          "metadata": {}
        }
      ]
    },
    {
      "cell_type": "markdown",
      "source": [
        "## EDA"
      ],
      "metadata": {
        "id": "K7xMGIAyJzO5"
      }
    },
    {
      "cell_type": "markdown",
      "source": [
        "### Columns"
      ],
      "metadata": {
        "id": "VJ-hOxcUMdt3"
      }
    },
    {
      "cell_type": "code",
      "source": [
        "df.columns"
      ],
      "metadata": {
        "colab": {
          "base_uri": "https://localhost:8080/"
        },
        "id": "IIHwIG_VPly2",
        "outputId": "09e8a13c-338d-476a-ff0f-587925c0cb35"
      },
      "execution_count": 5,
      "outputs": [
        {
          "output_type": "execute_result",
          "data": {
            "text/plain": [
              "Index(['StudentID', 'FirstName', 'FamilyName', 'school', 'sex', 'age',\n",
              "       'address', 'famsize', 'Pstatus', 'Medu', 'Fedu', 'Mjob', 'Fjob',\n",
              "       'reason', 'guardian', 'traveltime', 'studytime', 'failures',\n",
              "       'schoolsup', 'famsup', 'paid', 'activities', 'nursery', 'higher',\n",
              "       'internet', 'romantic', 'famrel', 'freetime', 'goout', 'Dalc', 'Walc',\n",
              "       'health', 'absences', 'FinalGrade'],\n",
              "      dtype='object')"
            ]
          },
          "metadata": {},
          "execution_count": 5
        }
      ]
    },
    {
      "cell_type": "markdown",
      "source": [
        "#### Overview"
      ],
      "metadata": {
        "id": "vgfgVRf0mAVY"
      }
    },
    {
      "cell_type": "code",
      "source": [
        "# info about the dataframe (type of cloumns)\n",
        "df.info()"
      ],
      "metadata": {
        "colab": {
          "base_uri": "https://localhost:8080/"
        },
        "id": "jiKCb1LEJ0ub",
        "outputId": "03c3460f-e84c-40d0-9720-8040e617b6b2"
      },
      "execution_count": 6,
      "outputs": [
        {
          "output_type": "stream",
          "name": "stdout",
          "text": [
            "<class 'pandas.core.frame.DataFrame'>\n",
            "RangeIndex: 357 entries, 0 to 356\n",
            "Data columns (total 34 columns):\n",
            " #   Column      Non-Null Count  Dtype \n",
            "---  ------      --------------  ----- \n",
            " 0   StudentID   357 non-null    int64 \n",
            " 1   FirstName   357 non-null    object\n",
            " 2   FamilyName  357 non-null    object\n",
            " 3   school      357 non-null    object\n",
            " 4   sex         357 non-null    object\n",
            " 5   age         357 non-null    int64 \n",
            " 6   address     357 non-null    object\n",
            " 7   famsize     357 non-null    object\n",
            " 8   Pstatus     357 non-null    object\n",
            " 9   Medu        357 non-null    int64 \n",
            " 10  Fedu        357 non-null    int64 \n",
            " 11  Mjob        357 non-null    object\n",
            " 12  Fjob        357 non-null    object\n",
            " 13  reason      357 non-null    object\n",
            " 14  guardian    357 non-null    object\n",
            " 15  traveltime  357 non-null    int64 \n",
            " 16  studytime   357 non-null    int64 \n",
            " 17  failures    357 non-null    int64 \n",
            " 18  schoolsup   357 non-null    object\n",
            " 19  famsup      357 non-null    object\n",
            " 20  paid        357 non-null    object\n",
            " 21  activities  357 non-null    object\n",
            " 22  nursery     357 non-null    object\n",
            " 23  higher      357 non-null    object\n",
            " 24  internet    357 non-null    object\n",
            " 25  romantic    357 non-null    object\n",
            " 26  famrel      357 non-null    int64 \n",
            " 27  freetime    357 non-null    int64 \n",
            " 28  goout       357 non-null    int64 \n",
            " 29  Dalc        357 non-null    int64 \n",
            " 30  Walc        357 non-null    int64 \n",
            " 31  health      357 non-null    int64 \n",
            " 32  absences    357 non-null    int64 \n",
            " 33  FinalGrade  357 non-null    int64 \n",
            "dtypes: int64(15), object(19)\n",
            "memory usage: 95.0+ KB\n"
          ]
        }
      ]
    },
    {
      "cell_type": "code",
      "source": [
        "# Null Value\n",
        "# df.isna().sum()"
      ],
      "metadata": {
        "id": "IaaLdXsuZ1RY"
      },
      "execution_count": 7,
      "outputs": []
    },
    {
      "cell_type": "code",
      "source": [
        "# Unique Values\n",
        "df.nunique(axis=0)"
      ],
      "metadata": {
        "colab": {
          "base_uri": "https://localhost:8080/"
        },
        "id": "6EN6jAQHP5IM",
        "outputId": "72d9b003-19e6-42a8-9961-1baa0e746c1a"
      },
      "execution_count": 8,
      "outputs": [
        {
          "output_type": "execute_result",
          "data": {
            "text/plain": [
              "StudentID     357\n",
              "FirstName      40\n",
              "FamilyName    355\n",
              "school          2\n",
              "sex             2\n",
              "age             8\n",
              "address         2\n",
              "famsize         2\n",
              "Pstatus         2\n",
              "Medu            5\n",
              "Fedu            5\n",
              "Mjob            5\n",
              "Fjob            5\n",
              "reason          4\n",
              "guardian        3\n",
              "traveltime      4\n",
              "studytime       4\n",
              "failures        4\n",
              "schoolsup       2\n",
              "famsup          2\n",
              "paid            2\n",
              "activities      2\n",
              "nursery         2\n",
              "higher          2\n",
              "internet        2\n",
              "romantic        2\n",
              "famrel          5\n",
              "freetime        5\n",
              "goout           5\n",
              "Dalc            5\n",
              "Walc            5\n",
              "health          5\n",
              "absences       34\n",
              "FinalGrade     17\n",
              "dtype: int64"
            ]
          },
          "metadata": {},
          "execution_count": 8
        }
      ]
    },
    {
      "cell_type": "code",
      "source": [
        "#df.describe()"
      ],
      "metadata": {
        "id": "mJC5ao4kQHAJ"
      },
      "execution_count": 9,
      "outputs": []
    },
    {
      "cell_type": "markdown",
      "source": [
        "__________________  \n",
        "\n",
        "#### EDA Conclusion\n",
        "__________________\n",
        "\n",
        "- **Null Values** : 0\n",
        "\n",
        "- **Columns to Drop**\n",
        "```\n",
        "['StudentID', 'FirstName', 'FamilyName']\n",
        "```\n",
        "\n",
        "- **Categorical Features**  \n",
        "```\n",
        "['school', 'sex','address', 'famsize', 'Pstatus', 'Medu', 'Fedu',\n",
        "  'Mjob', 'Fjob','reason', 'guardian', 'traveltime', 'studytime',\n",
        "  'schoolsup', 'famsup', 'paid', 'activities', 'nursery', 'higher',\n",
        "  'internet','romantic', 'famrel', 'freetime', 'goout', 'Dalc','Walc',\n",
        "  'health']\n",
        "```\n",
        "- **Numerical Features**  \n",
        "```\n",
        "['age','failures','absences']\n",
        "```\n",
        "\n",
        "- **Target**  \n",
        "```\n",
        "'FinalGrade'\n",
        "```"
      ],
      "metadata": {
        "id": "qb12o-4CIp6O"
      }
    },
    {
      "cell_type": "markdown",
      "source": [
        "Columns by Types\n"
      ],
      "metadata": {
        "id": "8Yvwt39IeTk9"
      }
    },
    {
      "cell_type": "code",
      "source": [
        "to_drop = ['StudentID', 'FirstName', 'FamilyName']\n",
        "\n",
        "categorical = ['school', 'sex','address', 'famsize', 'Pstatus', 'Medu', 'Fedu',\n",
        "               'Mjob', 'Fjob','reason', 'guardian', 'traveltime', 'studytime',\n",
        "               'schoolsup', 'famsup', 'paid', 'activities', 'nursery', 'higher',\n",
        "               'internet','romantic', 'famrel', 'freetime', 'goout', 'Dalc',\n",
        "               'Walc','health']\n",
        "\n",
        "numerical = ['age','failures','absences']\n",
        "\n",
        "target = 'FinalGrade'"
      ],
      "metadata": {
        "id": "oTPN9ZLsQXjl"
      },
      "execution_count": 10,
      "outputs": []
    },
    {
      "cell_type": "code",
      "source": [
        "actionable = ['school', 'studytime', 'famsup', 'paid', 'activities',\n",
        "              'internet','romantic', 'freetime', 'goout', 'Dalc',\n",
        "               'Walc','health']"
      ],
      "metadata": {
        "id": "zDVqI_jAyvbO"
      },
      "execution_count": 11,
      "outputs": []
    },
    {
      "cell_type": "markdown",
      "source": [
        "Drop column"
      ],
      "metadata": {
        "id": "5UvaZgfDi9iM"
      }
    },
    {
      "cell_type": "code",
      "source": [
        "df = df.drop(to_drop, axis=1)"
      ],
      "metadata": {
        "id": "K7uBZp5_jBhh"
      },
      "execution_count": 12,
      "outputs": []
    },
    {
      "cell_type": "markdown",
      "source": [
        "### Exploration "
      ],
      "metadata": {
        "id": "G2b1-eVjbMB1"
      }
    },
    {
      "cell_type": "markdown",
      "source": [
        "#### Numerical Features"
      ],
      "metadata": {
        "id": "4LYTayPVh7hL"
      }
    },
    {
      "cell_type": "markdown",
      "source": [
        "histogram"
      ],
      "metadata": {
        "id": "U8ihAtVoePam"
      }
    },
    {
      "cell_type": "code",
      "source": [
        "for num_col in numerical:\n",
        "  sns.histplot(df[num_col], element='bars',kde=True)\n",
        "  plt.text(x=np.max(df[num_col])*0.85,y=70,s=f\"Skew: {round(df[num_col].skew(),2)}\\nKurtosis: {round(df[num_col].kurt(),2)}\")\n",
        "  plt.title(num_col)\n",
        "  plt.show()"
      ],
      "metadata": {
        "colab": {
          "base_uri": "https://localhost:8080/",
          "height": 851
        },
        "id": "lq8in7dabLJV",
        "outputId": "0f8114b4-6fd2-4dd9-e27d-744c3486a02e"
      },
      "execution_count": 13,
      "outputs": [
        {
          "output_type": "display_data",
          "data": {
            "text/plain": [
              "<Figure size 432x288 with 1 Axes>"
            ],
            "image/png": "[encoded data removed]"
          },
          "metadata": {
            "needs_background": "light"
          }
        },
        {
          "output_type": "display_data",
          "data": {
            "text/plain": [
              "<Figure size 432x288 with 1 Axes>"
            ],
            "image/png": "[encoded data removed]"
          },
          "metadata": {
            "needs_background": "light"
          }
        },
        {
          "output_type": "display_data",
          "data": {
            "text/plain": [
              "<Figure size 432x288 with 1 Axes>"
            ],
            "image/png": "[encoded data removed]"
          },
          "metadata": {
            "needs_background": "light"
          }
        }
      ]
    },
    {
      "cell_type": "markdown",
      "source": [
        "pairplot"
      ],
      "metadata": {
        "id": "x1F3CJ51eKjr"
      }
    },
    {
      "cell_type": "code",
      "source": [
        "num_and_target = [target]\n",
        "num_and_target.extend(numerical)\n",
        "\n",
        "plt.figure(figsize=(20,20))\n",
        "sns.pairplot(data=df[num_and_target])\n",
        "plt.show()"
      ],
      "metadata": {
        "colab": {
          "base_uri": "https://localhost:8080/",
          "height": 743
        },
        "id": "lqb8wCOIeGY8",
        "outputId": "86ae43e9-8d61-4616-b404-efacefe9efcc"
      },
      "execution_count": 14,
      "outputs": [
        {
          "output_type": "display_data",
          "data": {
            "text/plain": [
              "<Figure size 1440x1440 with 0 Axes>"
            ]
          },
          "metadata": {}
        },
        {
          "output_type": "display_data",
          "data": {
            "text/plain": [
              "<Figure size 720x720 with 20 Axes>"
            ],
            "image/png": "[encoded data removed]"
          },
          "metadata": {
            "needs_background": "light"
          }
        }
      ]
    },
    {
      "cell_type": "code",
      "source": [
        "for num_col in numerical:\n",
        "    sns.boxplot(y=df[num_col], x=df[target])\n",
        "    plt.title(f\"{num_col} vs FinalGrade\")\n",
        "    plt.show()"
      ],
      "metadata": {
        "colab": {
          "base_uri": "https://localhost:8080/",
          "height": 851
        },
        "id": "AYVSNc-YnMXg",
        "outputId": "2e83e61e-bdec-4744-9bec-d11e051191b9"
      },
      "execution_count": 15,
      "outputs": [
        {
          "output_type": "display_data",
          "data": {
            "text/plain": [
              "<Figure size 432x288 with 1 Axes>"
            ],
            "image/png": "[encoded data removed]"
          },
          "metadata": {
            "needs_background": "light"
          }
        },
        {
          "output_type": "display_data",
          "data": {
            "text/plain": [
              "<Figure size 432x288 with 1 Axes>"
            ],
            "image/png": "[encoded data removed]"
          },
          "metadata": {
            "needs_background": "light"
          }
        },
        {
          "output_type": "display_data",
          "data": {
            "text/plain": [
              "<Figure size 432x288 with 1 Axes>"
            ],
            "image/png": "[encoded data removed]"
          },
          "metadata": {
            "needs_background": "light"
          }
        }
      ]
    },
    {
      "cell_type": "markdown",
      "source": [
        "#### Categorical Features"
      ],
      "metadata": {
        "id": "UhTp-uc1h4Fq"
      }
    },
    {
      "cell_type": "code",
      "source": [
        "school_col = ['school', 'reason','nursery']\n",
        "identity_col = ['sex','health']\n",
        "home_col = ['address','traveltime','internet']\n",
        "party_col = ['freetime', 'goout', 'Dalc', 'Walc']\n",
        "relation_col = ['romantic','famrel']\n",
        "student_col = ['studytime','activities','higher']\n",
        "support_col = ['schoolsup', 'famsup', 'paid']\n",
        "family_col = ['guardian','famsize', 'Pstatus', 'Medu', 'Fedu', 'Mjob', 'Fjob']"
      ],
      "metadata": {
        "id": "6C1r5TWQpPne"
      },
      "execution_count": 16,
      "outputs": []
    },
    {
      "cell_type": "markdown",
      "source": [
        "##### Encode Categorical Columns (OPT)"
      ],
      "metadata": {
        "id": "z0kO4yb6nQkF"
      }
    },
    {
      "cell_type": "code",
      "source": [
        "categorical_col = df.select_dtypes(include=['object']).columns\n",
        "assert categorical_col.all() in categorical\n",
        "print(categorical_col)"
      ],
      "metadata": {
        "colab": {
          "base_uri": "https://localhost:8080/"
        },
        "id": "o183ImM3lPWH",
        "outputId": "a0c769d6-6e04-44ca-d15c-92b4deb2c3e9"
      },
      "execution_count": 17,
      "outputs": [
        {
          "output_type": "stream",
          "name": "stdout",
          "text": [
            "Index(['school', 'sex', 'address', 'famsize', 'Pstatus', 'Mjob', 'Fjob',\n",
            "       'reason', 'guardian', 'schoolsup', 'famsup', 'paid', 'activities',\n",
            "       'nursery', 'higher', 'internet', 'romantic'],\n",
            "      dtype='object')\n"
          ]
        }
      ]
    },
    {
      "cell_type": "code",
      "source": [
        "from sklearn.preprocessing import OrdinalEncoder\n",
        "\n",
        "df_cat = df.copy()\n",
        "\n",
        "ord_enc = OrdinalEncoder(dtype=int)\n",
        "for c in categorical_col :\n",
        "  df_cat[c] = ord_enc.fit_transform(df_cat[[c]])\n",
        "\n",
        "assert len(df_cat.select_dtypes(include=['int']).columns) == len(df.columns)\n",
        "\n",
        "df_cat.head()"
      ],
      "metadata": {
        "colab": {
          "base_uri": "https://localhost:8080/",
          "height": 297
        },
        "id": "brUil798IsGr",
        "outputId": "8922b7b0-508e-4cd5-ac52-94bbf02cbf79"
      },
      "execution_count": 18,
      "outputs": [
        {
          "output_type": "execute_result",
          "data": {
            "text/plain": [
              "   school  sex  age  address  famsize  Pstatus  Medu  Fedu  Mjob  Fjob  ...  \\\n",
              "0       0    0   18        1        0        0     4     4     0     4  ...   \n",
              "1       0    0   17        1        0        1     1     1     0     2  ...   \n",
              "2       0    0   15        1        1        1     1     1     0     2  ...   \n",
              "3       0    0   15        1        0        1     4     2     1     3  ...   \n",
              "4       0    0   16        1        0        1     3     3     2     2  ...   \n",
              "\n",
              "   internet  romantic  famrel  freetime  goout  Dalc  Walc  health  absences  \\\n",
              "0         0         0       4         3      4     1     1       3         6   \n",
              "1         1         0       5         3      3     1     1       3         4   \n",
              "2         1         0       4         3      2     2     3       3        10   \n",
              "3         1         1       3         2      2     1     1       5         2   \n",
              "4         0         0       4         3      2     1     2       5         4   \n",
              "\n",
              "   FinalGrade  \n",
              "0           6  \n",
              "1           6  \n",
              "2          10  \n",
              "3          15  \n",
              "4          10  \n",
              "\n",
              "[5 rows x 31 columns]"
            ],
            "text/html": [
              "\n",
              "  <div id=\"df-c8dafe93-1bc3-41f4-ab91-55918063a7b6\">\n",
              "    <div class=\"colab-df-container\">\n",
              "      <div>\n",
              "<style scoped>\n",
              "    .dataframe tbody tr th:only-of-type {\n",
              "        vertical-align: middle;\n",
              "    }\n",
              "\n",
              "    .dataframe tbody tr th {\n",
              "        vertical-align: top;\n",
              "    }\n",
              "\n",
              "    .dataframe thead th {\n",
              "        text-align: right;\n",
              "    }\n",
              "</style>\n",
              "<table border=\"1\" class=\"dataframe\">\n",
              "  <thead>\n",
              "    <tr style=\"text-align: right;\">\n",
              "      <th></th>\n",
              "      <th>school</th>\n",
              "      <th>sex</th>\n",
              "      <th>age</th>\n",
              "      <th>address</th>\n",
              "      <th>famsize</th>\n",
              "      <th>Pstatus</th>\n",
              "      <th>Medu</th>\n",
              "      <th>Fedu</th>\n",
              "      <th>Mjob</th>\n",
              "      <th>Fjob</th>\n",
              "      <th>...</th>\n",
              "      <th>internet</th>\n",
              "      <th>romantic</th>\n",
              "      <th>famrel</th>\n",
              "      <th>freetime</th>\n",
              "      <th>goout</th>\n",
              "      <th>Dalc</th>\n",
              "      <th>Walc</th>\n",
              "      <th>health</th>\n",
              "      <th>absences</th>\n",
              "      <th>FinalGrade</th>\n",
              "    </tr>\n",
              "  </thead>\n",
              "  <tbody>\n",
              "    <tr>\n",
              "      <th>0</th>\n",
              "      <td>0</td>\n",
              "      <td>0</td>\n",
              "      <td>18</td>\n",
              "      <td>1</td>\n",
              "      <td>0</td>\n",
              "      <td>0</td>\n",
              "      <td>4</td>\n",
              "      <td>4</td>\n",
              "      <td>0</td>\n",
              "      <td>4</td>\n",
              "      <td>...</td>\n",
              "      <td>0</td>\n",
              "      <td>0</td>\n",
              "      <td>4</td>\n",
              "      <td>3</td>\n",
              "      <td>4</td>\n",
              "      <td>1</td>\n",
              "      <td>1</td>\n",
              "      <td>3</td>\n",
              "      <td>6</td>\n",
              "      <td>6</td>\n",
              "    </tr>\n",
              "    <tr>\n",
              "      <th>1</th>\n",
              "      <td>0</td>\n",
              "      <td>0</td>\n",
              "      <td>17</td>\n",
              "      <td>1</td>\n",
              "      <td>0</td>\n",
              "      <td>1</td>\n",
              "      <td>1</td>\n",
              "      <td>1</td>\n",
              "      <td>0</td>\n",
              "      <td>2</td>\n",
              "      <td>...</td>\n",
              "      <td>1</td>\n",
              "      <td>0</td>\n",
              "      <td>5</td>\n",
              "      <td>3</td>\n",
              "      <td>3</td>\n",
              "      <td>1</td>\n",
              "      <td>1</td>\n",
              "      <td>3</td>\n",
              "      <td>4</td>\n",
              "      <td>6</td>\n",
              "    </tr>\n",
              "    <tr>\n",
              "      <th>2</th>\n",
              "      <td>0</td>\n",
              "      <td>0</td>\n",
              "      <td>15</td>\n",
              "      <td>1</td>\n",
              "      <td>1</td>\n",
              "      <td>1</td>\n",
              "      <td>1</td>\n",
              "      <td>1</td>\n",
              "      <td>0</td>\n",
              "      <td>2</td>\n",
              "      <td>...</td>\n",
              "      <td>1</td>\n",
              "      <td>0</td>\n",
              "      <td>4</td>\n",
              "      <td>3</td>\n",
              "      <td>2</td>\n",
              "      <td>2</td>\n",
              "      <td>3</td>\n",
              "      <td>3</td>\n",
              "      <td>10</td>\n",
              "      <td>10</td>\n",
              "    </tr>\n",
              "    <tr>\n",
              "      <th>3</th>\n",
              "      <td>0</td>\n",
              "      <td>0</td>\n",
              "      <td>15</td>\n",
              "      <td>1</td>\n",
              "      <td>0</td>\n",
              "      <td>1</td>\n",
              "      <td>4</td>\n",
              "      <td>2</td>\n",
              "      <td>1</td>\n",
              "      <td>3</td>\n",
              "      <td>...</td>\n",
              "      <td>1</td>\n",
              "      <td>1</td>\n",
              "      <td>3</td>\n",
              "      <td>2</td>\n",
              "      <td>2</td>\n",
              "      <td>1</td>\n",
              "      <td>1</td>\n",
              "      <td>5</td>\n",
              "      <td>2</td>\n",
              "      <td>15</td>\n",
              "    </tr>\n",
              "    <tr>\n",
              "      <th>4</th>\n",
              "      <td>0</td>\n",
              "      <td>0</td>\n",
              "      <td>16</td>\n",
              "      <td>1</td>\n",
              "      <td>0</td>\n",
              "      <td>1</td>\n",
              "      <td>3</td>\n",
              "      <td>3</td>\n",
              "      <td>2</td>\n",
              "      <td>2</td>\n",
              "      <td>...</td>\n",
              "      <td>0</td>\n",
              "      <td>0</td>\n",
              "      <td>4</td>\n",
              "      <td>3</td>\n",
              "      <td>2</td>\n",
              "      <td>1</td>\n",
              "      <td>2</td>\n",
              "      <td>5</td>\n",
              "      <td>4</td>\n",
              "      <td>10</td>\n",
              "    </tr>\n",
              "  </tbody>\n",
              "</table>\n",
              "<p>5 rows × 31 columns</p>\n",
              "</div>\n",
              "      <button class=\"colab-df-convert\" onclick=\"convertToInteractive('df-c8dafe93-1bc3-41f4-ab91-55918063a7b6')\"\n",
              "              title=\"Convert this dataframe to an interactive table.\"\n",
              "              style=\"display:none;\">\n",
              "        \n",
              "  <svg xmlns=\"http://www.w3.org/2000/svg\" height=\"24px\"viewBox=\"0 0 24 24\"\n",
              "       width=\"24px\">\n",
              "    <path d=\"M0 0h24v24H0V0z\" fill=\"none\"/>\n",
              "    <path d=\"M18.56 5.44l.94 2.06.94-2.06 2.06-.94-2.06-.94-.94-2.06-.94 2.06-2.06.94zm-11 1L8.5 8.5l.94-2.06 2.06-.94-2.06-.94L8.5 2.5l-.94 2.06-2.06.94zm10 10l.94 2.06.94-2.06 2.06-.94-2.06-.94-.94-2.06-.94 2.06-2.06.94z\"/><path d=\"M17.41 7.96l-1.37-1.37c-.4-.4-.92-.59-1.43-.59-.52 0-1.04.2-1.43.59L10.3 9.45l-7.72 7.72c-.78.78-.78 2.05 0 2.83L4 21.41c.39.39.9.59 1.41.59.51 0 1.02-.2 1.41-.59l7.78-7.78 2.81-2.81c.8-.78.8-2.07 0-2.86zM5.41 20L4 18.59l7.72-7.72 1.47 1.35L5.41 20z\"/>\n",
              "  </svg>\n",
              "      </button>\n",
              "      \n",
              "  <style>\n",
              "    .colab-df-container {\n",
              "      display:flex;\n",
              "      flex-wrap:wrap;\n",
              "      gap: 12px;\n",
              "    }\n",
              "\n",
              "    .colab-df-convert {\n",
              "      background-color: #E8F0FE;\n",
              "      border: none;\n",
              "      border-radius: 50%;\n",
              "      cursor: pointer;\n",
              "      display: none;\n",
              "      fill: #1967D2;\n",
              "      height: 32px;\n",
              "      padding: 0 0 0 0;\n",
              "      width: 32px;\n",
              "    }\n",
              "\n",
              "    .colab-df-convert:hover {\n",
              "      background-color: #E2EBFA;\n",
              "      box-shadow: 0px 1px 2px rgba(60, 64, 67, 0.3), 0px 1px 3px 1px rgba(60, 64, 67, 0.15);\n",
              "      fill: #174EA6;\n",
              "    }\n",
              "\n",
              "    [theme=dark] .colab-df-convert {\n",
              "      background-color: #3B4455;\n",
              "      fill: #D2E3FC;\n",
              "    }\n",
              "\n",
              "    [theme=dark] .colab-df-convert:hover {\n",
              "      background-color: #434B5C;\n",
              "      box-shadow: 0px 1px 3px 1px rgba(0, 0, 0, 0.15);\n",
              "      filter: drop-shadow(0px 1px 2px rgba(0, 0, 0, 0.3));\n",
              "      fill: #FFFFFF;\n",
              "    }\n",
              "  </style>\n",
              "\n",
              "      <script>\n",
              "        const buttonEl =\n",
              "          document.querySelector('#df-c8dafe93-1bc3-41f4-ab91-55918063a7b6 button.colab-df-convert');\n",
              "        buttonEl.style.display =\n",
              "          google.colab.kernel.accessAllowed ? 'block' : 'none';\n",
              "\n",
              "        async function convertToInteractive(key) {\n",
              "          const element = document.querySelector('#df-c8dafe93-1bc3-41f4-ab91-55918063a7b6');\n",
              "          const dataTable =\n",
              "            await google.colab.kernel.invokeFunction('convertToInteractive',\n",
              "                                                     [key], {});\n",
              "          if (!dataTable) return;\n",
              "\n",
              "          const docLinkHtml = 'Like what you see? Visit the ' +\n",
              "            '<a target=\"_blank\" href=https://colab.research.google.com/notebooks/data_table.ipynb>data table notebook</a>'\n",
              "            + ' to learn more about interactive tables.';\n",
              "          element.innerHTML = '';\n",
              "          dataTable['output_type'] = 'display_data';\n",
              "          await google.colab.output.renderOutput(dataTable, element);\n",
              "          const docLink = document.createElement('div');\n",
              "          docLink.innerHTML = docLinkHtml;\n",
              "          element.appendChild(docLink);\n",
              "        }\n",
              "      </script>\n",
              "    </div>\n",
              "  </div>\n",
              "  "
            ]
          },
          "metadata": {},
          "execution_count": 18
        }
      ]
    },
    {
      "cell_type": "markdown",
      "source": [
        "##### Categorical vs Target"
      ],
      "metadata": {
        "id": "caPCvTzHkGn5"
      }
    },
    {
      "cell_type": "markdown",
      "source": [
        "Final Grade vs School columns"
      ],
      "metadata": {
        "id": "BzgLoN35s3Ef"
      }
    },
    {
      "cell_type": "code",
      "source": [
        "for cat_col in school_col:\n",
        "    sns.boxplot(y=df[target], x=df[cat_col])\n",
        "    plt.title(f\"FinalGrade vs {cat_col}\")\n",
        "    plt.show()"
      ],
      "metadata": {
        "colab": {
          "base_uri": "https://localhost:8080/",
          "height": 851
        },
        "id": "hpWiakShkQko",
        "outputId": "d3f0a439-f112-4e48-ff0f-472140df8413"
      },
      "execution_count": 19,
      "outputs": [
        {
          "output_type": "display_data",
          "data": {
            "text/plain": [
              "<Figure size 432x288 with 1 Axes>"
            ],
            "image/png": "[encoded data removed]"
          },
          "metadata": {
            "needs_background": "light"
          }
        },
        {
          "output_type": "display_data",
          "data": {
            "text/plain": [
              "<Figure size 432x288 with 1 Axes>"
            ],
            "image/png": "[encoded data removed]"
          },
          "metadata": {
            "needs_background": "light"
          }
        },
        {
          "output_type": "display_data",
          "data": {
            "text/plain": [
              "<Figure size 432x288 with 1 Axes>"
            ],
            "image/png": "[encoded data removed]"
          },
          "metadata": {
            "needs_background": "light"
          }
        }
      ]
    },
    {
      "cell_type": "markdown",
      "source": [
        "FinalGrade vs Identity Columns"
      ],
      "metadata": {
        "id": "GJjK52g6s_Ud"
      }
    },
    {
      "cell_type": "code",
      "source": [
        "for cat_col in identity_col:\n",
        "    sns.boxplot(y=df[target], x=df[cat_col])\n",
        "    plt.title(f\"FinalGrade vs {cat_col}\")\n",
        "    plt.show()"
      ],
      "metadata": {
        "colab": {
          "base_uri": "https://localhost:8080/",
          "height": 573
        },
        "id": "eH1mq3X4tF56",
        "outputId": "9dc4be55-63d6-4776-8b56-0d2fbda83a9a"
      },
      "execution_count": 20,
      "outputs": [
        {
          "output_type": "display_data",
          "data": {
            "text/plain": [
              "<Figure size 432x288 with 1 Axes>"
            ],
            "image/png": "[encoded data removed]"
          },
          "metadata": {
            "needs_background": "light"
          }
        },
        {
          "output_type": "display_data",
          "data": {
            "text/plain": [
              "<Figure size 432x288 with 1 Axes>"
            ],
            "image/png": "[encoded data removed]"
          },
          "metadata": {
            "needs_background": "light"
          }
        }
      ]
    },
    {
      "cell_type": "markdown",
      "source": [
        "FinalGrade vs Home Columns"
      ],
      "metadata": {
        "id": "vVfXG7sgtbya"
      }
    },
    {
      "cell_type": "code",
      "source": [
        "for cat_col in home_col:\n",
        "    sns.boxplot(y=df[target], x=df[cat_col])\n",
        "    plt.title(f\"FinalGrade vs {cat_col}\")\n",
        "    plt.show()"
      ],
      "metadata": {
        "colab": {
          "base_uri": "https://localhost:8080/",
          "height": 851
        },
        "id": "yMVGWttQtYn9",
        "outputId": "f9e574f1-995b-492c-9015-7b78c40c4f28"
      },
      "execution_count": 21,
      "outputs": [
        {
          "output_type": "display_data",
          "data": {
            "text/plain": [
              "<Figure size 432x288 with 1 Axes>"
            ],
            "image/png": "[encoded data removed]"
          },
          "metadata": {
            "needs_background": "light"
          }
        },
        {
          "output_type": "display_data",
          "data": {
            "text/plain": [
              "<Figure size 432x288 with 1 Axes>"
            ],
            "image/png": "[encoded data removed]"
          },
          "metadata": {
            "needs_background": "light"
          }
        },
        {
          "output_type": "display_data",
          "data": {
            "text/plain": [
              "<Figure size 432x288 with 1 Axes>"
            ],
            "image/png": "[encoded data removed]"
          },
          "metadata": {
            "needs_background": "light"
          }
        }
      ]
    },
    {
      "cell_type": "markdown",
      "source": [
        "FinalGrade vs Party Columns"
      ],
      "metadata": {
        "id": "QFedqklftjc4"
      }
    },
    {
      "cell_type": "code",
      "source": [
        "for cat_col in party_col:\n",
        "    sns.boxplot(y=df[target], x=df[cat_col])\n",
        "    plt.title(f\"FinalGrade vs {cat_col}\")\n",
        "    plt.show()"
      ],
      "metadata": {
        "colab": {
          "base_uri": "https://localhost:8080/",
          "height": 1000
        },
        "id": "XFIl8aEZti57",
        "outputId": "23bf3752-eb87-4907-9b61-c8c4e9c525c9"
      },
      "execution_count": 22,
      "outputs": [
        {
          "output_type": "display_data",
          "data": {
            "text/plain": [
              "<Figure size 432x288 with 1 Axes>"
            ],
            "image/png": "[encoded data removed]"
          },
          "metadata": {
            "needs_background": "light"
          }
        },
        {
          "output_type": "display_data",
          "data": {
            "text/plain": [
              "<Figure size 432x288 with 1 Axes>"
            ],
            "image/png": "[encoded data removed]"
          },
          "metadata": {
            "needs_background": "light"
          }
        },
        {
          "output_type": "display_data",
          "data": {
            "text/plain": [
              "<Figure size 432x288 with 1 Axes>"
            ],
            "image/png": "[encoded data removed]"
          },
          "metadata": {
            "needs_background": "light"
          }
        },
        {
          "output_type": "display_data",
          "data": {
            "text/plain": [
              "<Figure size 432x288 with 1 Axes>"
            ],
            "image/png": "[encoded data removed]"
          },
          "metadata": {
            "needs_background": "light"
          }
        }
      ]
    },
    {
      "cell_type": "markdown",
      "source": [
        "FinalGrade vs Relation Columns"
      ],
      "metadata": {
        "id": "BMvT8pHruGqI"
      }
    },
    {
      "cell_type": "code",
      "source": [
        "for cat_col in relation_col:\n",
        "    sns.boxplot(y=df[target], x=df[cat_col])\n",
        "    plt.title(f\"FinalGrade vs {cat_col}\")\n",
        "    plt.show()"
      ],
      "metadata": {
        "colab": {
          "base_uri": "https://localhost:8080/",
          "height": 573
        },
        "id": "2X7zimJOt4RG",
        "outputId": "09ad6e6f-c85b-423a-f1fb-751210ffd64a"
      },
      "execution_count": 23,
      "outputs": [
        {
          "output_type": "display_data",
          "data": {
            "text/plain": [
              "<Figure size 432x288 with 1 Axes>"
            ],
            "image/png": "[encoded data removed]"
          },
          "metadata": {
            "needs_background": "light"
          }
        },
        {
          "output_type": "display_data",
          "data": {
            "text/plain": [
              "<Figure size 432x288 with 1 Axes>"
            ],
            "image/png": "[encoded data removed]"
          },
          "metadata": {
            "needs_background": "light"
          }
        }
      ]
    },
    {
      "cell_type": "markdown",
      "source": [
        "FinalGrade vs Student Life Columns"
      ],
      "metadata": {
        "id": "hmT-jqbAuI3o"
      }
    },
    {
      "cell_type": "code",
      "source": [
        "for cat_col in student_col:\n",
        "    sns.boxplot(y=df[target], x=df[cat_col])\n",
        "    plt.title(f\"FinalGrade vs {cat_col}\")\n",
        "    plt.show()"
      ],
      "metadata": {
        "colab": {
          "base_uri": "https://localhost:8080/",
          "height": 851
        },
        "id": "RnSYiX9uuQfv",
        "outputId": "3233660b-7b06-45fd-dd50-4620e30f3529"
      },
      "execution_count": 24,
      "outputs": [
        {
          "output_type": "display_data",
          "data": {
            "text/plain": [
              "<Figure size 432x288 with 1 Axes>"
            ],
            "image/png": "[encoded data removed]"
          },
          "metadata": {
            "needs_background": "light"
          }
        },
        {
          "output_type": "display_data",
          "data": {
            "text/plain": [
              "<Figure size 432x288 with 1 Axes>"
            ],
            "image/png": "[encoded data removed]"
          },
          "metadata": {
            "needs_background": "light"
          }
        },
        {
          "output_type": "display_data",
          "data": {
            "text/plain": [
              "<Figure size 432x288 with 1 Axes>"
            ],
            "image/png": "[encoded data removed]"
          },
          "metadata": {
            "needs_background": "light"
          }
        }
      ]
    },
    {
      "cell_type": "markdown",
      "source": [
        "FinalGrade vs Study Support Columns"
      ],
      "metadata": {
        "id": "IxChYD9nuVLC"
      }
    },
    {
      "cell_type": "code",
      "source": [
        "for cat_col in support_col:\n",
        "    sns.boxplot(y=df[target], x=df[cat_col])\n",
        "    plt.title(f\"FinalGrade vs {cat_col}\")\n",
        "    plt.show()"
      ],
      "metadata": {
        "colab": {
          "base_uri": "https://localhost:8080/",
          "height": 851
        },
        "id": "dMMV3leNuUxj",
        "outputId": "23f66b52-8455-4ced-a578-c83fc7ce7762"
      },
      "execution_count": 25,
      "outputs": [
        {
          "output_type": "display_data",
          "data": {
            "text/plain": [
              "<Figure size 432x288 with 1 Axes>"
            ],
            "image/png": "[encoded data removed]"
          },
          "metadata": {
            "needs_background": "light"
          }
        },
        {
          "output_type": "display_data",
          "data": {
            "text/plain": [
              "<Figure size 432x288 with 1 Axes>"
            ],
            "image/png": "[encoded data removed]"
          },
          "metadata": {
            "needs_background": "light"
          }
        },
        {
          "output_type": "display_data",
          "data": {
            "text/plain": [
              "<Figure size 432x288 with 1 Axes>"
            ],
            "image/png": "[encoded data removed]"
          },
          "metadata": {
            "needs_background": "light"
          }
        }
      ]
    },
    {
      "cell_type": "markdown",
      "source": [
        "FinalGrade vs Family Situation Columns"
      ],
      "metadata": {
        "id": "jrPI0ztoufYX"
      }
    },
    {
      "cell_type": "code",
      "source": [
        "for cat_col in family_col:\n",
        "    sns.boxplot(y=df[target], x=df[cat_col])\n",
        "    plt.title(f\"FinalGrade vs {cat_col}\")\n",
        "    plt.show()"
      ],
      "metadata": {
        "colab": {
          "base_uri": "https://localhost:8080/",
          "height": 1000
        },
        "id": "366K_UoHudKC",
        "outputId": "f8a82e4f-8d29-4bdf-b7a6-6b6a4a12ecaa"
      },
      "execution_count": 26,
      "outputs": [
        {
          "output_type": "display_data",
          "data": {
            "text/plain": [
              "<Figure size 432x288 with 1 Axes>"
            ],
            "image/png": "[encoded data removed]"
          },
          "metadata": {
            "needs_background": "light"
          }
        },
        {
          "output_type": "display_data",
          "data": {
            "text/plain": [
              "<Figure size 432x288 with 1 Axes>"
            ],
            "image/png": "[encoded data removed]"
          },
          "metadata": {
            "needs_background": "light"
          }
        },
        {
          "output_type": "display_data",
          "data": {
            "text/plain": [
              "<Figure size 432x288 with 1 Axes>"
            ],
            "image/png": "[encoded data removed]"
          },
          "metadata": {
            "needs_background": "light"
          }
        },
        {
          "output_type": "display_data",
          "data": {
            "text/plain": [
              "<Figure size 432x288 with 1 Axes>"
            ],
            "image/png": "[encoded data removed]"
          },
          "metadata": {
            "needs_background": "light"
          }
        },
        {
          "output_type": "display_data",
          "data": {
            "text/plain": [
              "<Figure size 432x288 with 1 Axes>"
            ],
            "image/png": "[encoded data removed]"
          },
          "metadata": {
            "needs_background": "light"
          }
        },
        {
          "output_type": "display_data",
          "data": {
            "text/plain": [
              "<Figure size 432x288 with 1 Axes>"
            ],
            "image/png": "[encoded data removed]"
          },
          "metadata": {
            "needs_background": "light"
          }
        },
        {
          "output_type": "display_data",
          "data": {
            "text/plain": [
              "<Figure size 432x288 with 1 Axes>"
            ],
            "image/png": "[encoded data removed]"
          },
          "metadata": {
            "needs_background": "light"
          }
        }
      ]
    },
    {
      "cell_type": "markdown",
      "source": [
        "#### Target : FinalGrade"
      ],
      "metadata": {
        "id": "7Wq_rOzZSjqF"
      }
    },
    {
      "cell_type": "code",
      "source": [
        "plt.figure(figsize=(15,6))\n",
        "plt.title(\"FinalGrade Distribution\")\n",
        "sns.countplot(x=target, data=df)\n",
        "plt.show()"
      ],
      "metadata": {
        "colab": {
          "base_uri": "https://localhost:8080/",
          "height": 404
        },
        "id": "jJv66X1JSlpa",
        "outputId": "7746be34-3bef-4968-b9c0-3b32510fab7b"
      },
      "execution_count": 27,
      "outputs": [
        {
          "output_type": "display_data",
          "data": {
            "text/plain": [
              "<Figure size 1080x432 with 1 Axes>"
            ],
            "image/png": "[encoded data removed]"
          },
          "metadata": {
            "needs_background": "light"
          }
        }
      ]
    },
    {
      "cell_type": "code",
      "source": [
        "print(len(df[df[target] < 8]))\n",
        "print(len(df[df[target] >= 12][df[target] < 16]))\n",
        "print(len(df[df[target] >= 16]))"
      ],
      "metadata": {
        "colab": {
          "base_uri": "https://localhost:8080/"
        },
        "id": "AckNsjJMjZaM",
        "outputId": "99dc734d-12df-445e-da93-6bc1c8842365"
      },
      "execution_count": 28,
      "outputs": [
        {
          "output_type": "stream",
          "name": "stdout",
          "text": [
            "32\n",
            "122\n",
            "40\n"
          ]
        },
        {
          "output_type": "stream",
          "name": "stderr",
          "text": [
            "/usr/local/lib/python3.7/dist-packages/ipykernel_launcher.py:2: UserWarning: Boolean Series key will be reindexed to match DataFrame index.\n",
            "  \n"
          ]
        }
      ]
    },
    {
      "cell_type": "markdown",
      "source": [
        "**On va categoriser le label selon 5 groupes :**  \n",
        "- 1  < 8 : 32 lines\n",
        "- 2  >= 8 et < 10 : 60 lines\n",
        "- 3  >= 10 et < 12 : 103 lines\n",
        "- 4  >= 12 et < 16 : 122 lines\n",
        "- 5  >= 16 : 40 lines\n",
        "\n"
      ],
      "metadata": {
        "id": "aWGTFoFOihq_"
      }
    },
    {
      "cell_type": "markdown",
      "source": [
        "Encoding of the FinalGrade"
      ],
      "metadata": {
        "id": "NnIODdPN1KN8"
      }
    },
    {
      "cell_type": "code",
      "source": [
        "def encode_target_5_cat(final_grade:int) -> int:\n",
        "  if final_grade < 8:\n",
        "    return 1\n",
        "  elif final_grade >=8 and final_grade < 10:\n",
        "    return 2\n",
        "  elif final_grade >= 10 and final_grade < 12:\n",
        "    return 3\n",
        "  elif final_grade >= 12 and final_grade < 16:\n",
        "    return 4\n",
        "  elif final_grade >=16 :\n",
        "    return 5\n"
      ],
      "metadata": {
        "id": "llzxSoWssaOL"
      },
      "execution_count": 29,
      "outputs": []
    },
    {
      "cell_type": "code",
      "source": [
        "df[\"Target5Class\"] = df_cat[\"FinalGrade\"].apply(encode_target_5_cat)\n",
        "df.head()"
      ],
      "metadata": {
        "colab": {
          "base_uri": "https://localhost:8080/",
          "height": 297
        },
        "id": "4oBMnceitDoN",
        "outputId": "90195fef-edeb-456e-b222-229d812f3766"
      },
      "execution_count": 30,
      "outputs": [
        {
          "output_type": "execute_result",
          "data": {
            "text/plain": [
              "  school sex  age address famsize Pstatus  Medu  Fedu     Mjob      Fjob  ...  \\\n",
              "0     GP   F   18       U     GT3       A     4     4  at_home   teacher  ...   \n",
              "1     GP   F   17       U     GT3       T     1     1  at_home     other  ...   \n",
              "2     GP   F   15       U     LE3       T     1     1  at_home     other  ...   \n",
              "3     GP   F   15       U     GT3       T     4     2   health  services  ...   \n",
              "4     GP   F   16       U     GT3       T     3     3    other     other  ...   \n",
              "\n",
              "  romantic famrel  freetime  goout  Dalc Walc health absences FinalGrade  \\\n",
              "0       no      4         3      4     1    1      3        6          6   \n",
              "1       no      5         3      3     1    1      3        4          6   \n",
              "2       no      4         3      2     2    3      3       10         10   \n",
              "3      yes      3         2      2     1    1      5        2         15   \n",
              "4       no      4         3      2     1    2      5        4         10   \n",
              "\n",
              "  Target5Class  \n",
              "0            1  \n",
              "1            1  \n",
              "2            3  \n",
              "3            4  \n",
              "4            3  \n",
              "\n",
              "[5 rows x 32 columns]"
            ],
            "text/html": [
              "\n",
              "  <div id=\"df-a1fb40c2-5171-4a59-9719-bef02f68654b\">\n",
              "    <div class=\"colab-df-container\">\n",
              "      <div>\n",
              "<style scoped>\n",
              "    .dataframe tbody tr th:only-of-type {\n",
              "        vertical-align: middle;\n",
              "    }\n",
              "\n",
              "    .dataframe tbody tr th {\n",
              "        vertical-align: top;\n",
              "    }\n",
              "\n",
              "    .dataframe thead th {\n",
              "        text-align: right;\n",
              "    }\n",
              "</style>\n",
              "<table border=\"1\" class=\"dataframe\">\n",
              "  <thead>\n",
              "    <tr style=\"text-align: right;\">\n",
              "      <th></th>\n",
              "      <th>school</th>\n",
              "      <th>sex</th>\n",
              "      <th>age</th>\n",
              "      <th>address</th>\n",
              "      <th>famsize</th>\n",
              "      <th>Pstatus</th>\n",
              "      <th>Medu</th>\n",
              "      <th>Fedu</th>\n",
              "      <th>Mjob</th>\n",
              "      <th>Fjob</th>\n",
              "      <th>...</th>\n",
              "      <th>romantic</th>\n",
              "      <th>famrel</th>\n",
              "      <th>freetime</th>\n",
              "      <th>goout</th>\n",
              "      <th>Dalc</th>\n",
              "      <th>Walc</th>\n",
              "      <th>health</th>\n",
              "      <th>absences</th>\n",
              "      <th>FinalGrade</th>\n",
              "      <th>Target5Class</th>\n",
              "    </tr>\n",
              "  </thead>\n",
              "  <tbody>\n",
              "    <tr>\n",
              "      <th>0</th>\n",
              "      <td>GP</td>\n",
              "      <td>F</td>\n",
              "      <td>18</td>\n",
              "      <td>U</td>\n",
              "      <td>GT3</td>\n",
              "      <td>A</td>\n",
              "      <td>4</td>\n",
              "      <td>4</td>\n",
              "      <td>at_home</td>\n",
              "      <td>teacher</td>\n",
              "      <td>...</td>\n",
              "      <td>no</td>\n",
              "      <td>4</td>\n",
              "      <td>3</td>\n",
              "      <td>4</td>\n",
              "      <td>1</td>\n",
              "      <td>1</td>\n",
              "      <td>3</td>\n",
              "      <td>6</td>\n",
              "      <td>6</td>\n",
              "      <td>1</td>\n",
              "    </tr>\n",
              "    <tr>\n",
              "      <th>1</th>\n",
              "      <td>GP</td>\n",
              "      <td>F</td>\n",
              "      <td>17</td>\n",
              "      <td>U</td>\n",
              "      <td>GT3</td>\n",
              "      <td>T</td>\n",
              "      <td>1</td>\n",
              "      <td>1</td>\n",
              "      <td>at_home</td>\n",
              "      <td>other</td>\n",
              "      <td>...</td>\n",
              "      <td>no</td>\n",
              "      <td>5</td>\n",
              "      <td>3</td>\n",
              "      <td>3</td>\n",
              "      <td>1</td>\n",
              "      <td>1</td>\n",
              "      <td>3</td>\n",
              "      <td>4</td>\n",
              "      <td>6</td>\n",
              "      <td>1</td>\n",
              "    </tr>\n",
              "    <tr>\n",
              "      <th>2</th>\n",
              "      <td>GP</td>\n",
              "      <td>F</td>\n",
              "      <td>15</td>\n",
              "      <td>U</td>\n",
              "      <td>LE3</td>\n",
              "      <td>T</td>\n",
              "      <td>1</td>\n",
              "      <td>1</td>\n",
              "      <td>at_home</td>\n",
              "      <td>other</td>\n",
              "      <td>...</td>\n",
              "      <td>no</td>\n",
              "      <td>4</td>\n",
              "      <td>3</td>\n",
              "      <td>2</td>\n",
              "      <td>2</td>\n",
              "      <td>3</td>\n",
              "      <td>3</td>\n",
              "      <td>10</td>\n",
              "      <td>10</td>\n",
              "      <td>3</td>\n",
              "    </tr>\n",
              "    <tr>\n",
              "      <th>3</th>\n",
              "      <td>GP</td>\n",
              "      <td>F</td>\n",
              "      <td>15</td>\n",
              "      <td>U</td>\n",
              "      <td>GT3</td>\n",
              "      <td>T</td>\n",
              "      <td>4</td>\n",
              "      <td>2</td>\n",
              "      <td>health</td>\n",
              "      <td>services</td>\n",
              "      <td>...</td>\n",
              "      <td>yes</td>\n",
              "      <td>3</td>\n",
              "      <td>2</td>\n",
              "      <td>2</td>\n",
              "      <td>1</td>\n",
              "      <td>1</td>\n",
              "      <td>5</td>\n",
              "      <td>2</td>\n",
              "      <td>15</td>\n",
              "      <td>4</td>\n",
              "    </tr>\n",
              "    <tr>\n",
              "      <th>4</th>\n",
              "      <td>GP</td>\n",
              "      <td>F</td>\n",
              "      <td>16</td>\n",
              "      <td>U</td>\n",
              "      <td>GT3</td>\n",
              "      <td>T</td>\n",
              "      <td>3</td>\n",
              "      <td>3</td>\n",
              "      <td>other</td>\n",
              "      <td>other</td>\n",
              "      <td>...</td>\n",
              "      <td>no</td>\n",
              "      <td>4</td>\n",
              "      <td>3</td>\n",
              "      <td>2</td>\n",
              "      <td>1</td>\n",
              "      <td>2</td>\n",
              "      <td>5</td>\n",
              "      <td>4</td>\n",
              "      <td>10</td>\n",
              "      <td>3</td>\n",
              "    </tr>\n",
              "  </tbody>\n",
              "</table>\n",
              "<p>5 rows × 32 columns</p>\n",
              "</div>\n",
              "      <button class=\"colab-df-convert\" onclick=\"convertToInteractive('df-a1fb40c2-5171-4a59-9719-bef02f68654b')\"\n",
              "              title=\"Convert this dataframe to an interactive table.\"\n",
              "              style=\"display:none;\">\n",
              "        \n",
              "  <svg xmlns=\"http://www.w3.org/2000/svg\" height=\"24px\"viewBox=\"0 0 24 24\"\n",
              "       width=\"24px\">\n",
              "    <path d=\"M0 0h24v24H0V0z\" fill=\"none\"/>\n",
              "    <path d=\"M18.56 5.44l.94 2.06.94-2.06 2.06-.94-2.06-.94-.94-2.06-.94 2.06-2.06.94zm-11 1L8.5 8.5l.94-2.06 2.06-.94-2.06-.94L8.5 2.5l-.94 2.06-2.06.94zm10 10l.94 2.06.94-2.06 2.06-.94-2.06-.94-.94-2.06-.94 2.06-2.06.94z\"/><path d=\"M17.41 7.96l-1.37-1.37c-.4-.4-.92-.59-1.43-.59-.52 0-1.04.2-1.43.59L10.3 9.45l-7.72 7.72c-.78.78-.78 2.05 0 2.83L4 21.41c.39.39.9.59 1.41.59.51 0 1.02-.2 1.41-.59l7.78-7.78 2.81-2.81c.8-.78.8-2.07 0-2.86zM5.41 20L4 18.59l7.72-7.72 1.47 1.35L5.41 20z\"/>\n",
              "  </svg>\n",
              "      </button>\n",
              "      \n",
              "  <style>\n",
              "    .colab-df-container {\n",
              "      display:flex;\n",
              "      flex-wrap:wrap;\n",
              "      gap: 12px;\n",
              "    }\n",
              "\n",
              "    .colab-df-convert {\n",
              "      background-color: #E8F0FE;\n",
              "      border: none;\n",
              "      border-radius: 50%;\n",
              "      cursor: pointer;\n",
              "      display: none;\n",
              "      fill: #1967D2;\n",
              "      height: 32px;\n",
              "      padding: 0 0 0 0;\n",
              "      width: 32px;\n",
              "    }\n",
              "\n",
              "    .colab-df-convert:hover {\n",
              "      background-color: #E2EBFA;\n",
              "      box-shadow: 0px 1px 2px rgba(60, 64, 67, 0.3), 0px 1px 3px 1px rgba(60, 64, 67, 0.15);\n",
              "      fill: #174EA6;\n",
              "    }\n",
              "\n",
              "    [theme=dark] .colab-df-convert {\n",
              "      background-color: #3B4455;\n",
              "      fill: #D2E3FC;\n",
              "    }\n",
              "\n",
              "    [theme=dark] .colab-df-convert:hover {\n",
              "      background-color: #434B5C;\n",
              "      box-shadow: 0px 1px 3px 1px rgba(0, 0, 0, 0.15);\n",
              "      filter: drop-shadow(0px 1px 2px rgba(0, 0, 0, 0.3));\n",
              "      fill: #FFFFFF;\n",
              "    }\n",
              "  </style>\n",
              "\n",
              "      <script>\n",
              "        const buttonEl =\n",
              "          document.querySelector('#df-a1fb40c2-5171-4a59-9719-bef02f68654b button.colab-df-convert');\n",
              "        buttonEl.style.display =\n",
              "          google.colab.kernel.accessAllowed ? 'block' : 'none';\n",
              "\n",
              "        async function convertToInteractive(key) {\n",
              "          const element = document.querySelector('#df-a1fb40c2-5171-4a59-9719-bef02f68654b');\n",
              "          const dataTable =\n",
              "            await google.colab.kernel.invokeFunction('convertToInteractive',\n",
              "                                                     [key], {});\n",
              "          if (!dataTable) return;\n",
              "\n",
              "          const docLinkHtml = 'Like what you see? Visit the ' +\n",
              "            '<a target=\"_blank\" href=https://colab.research.google.com/notebooks/data_table.ipynb>data table notebook</a>'\n",
              "            + ' to learn more about interactive tables.';\n",
              "          element.innerHTML = '';\n",
              "          dataTable['output_type'] = 'display_data';\n",
              "          await google.colab.output.renderOutput(dataTable, element);\n",
              "          const docLink = document.createElement('div');\n",
              "          docLink.innerHTML = docLinkHtml;\n",
              "          element.appendChild(docLink);\n",
              "        }\n",
              "      </script>\n",
              "    </div>\n",
              "  </div>\n",
              "  "
            ]
          },
          "metadata": {},
          "execution_count": 30
        }
      ]
    },
    {
      "cell_type": "markdown",
      "source": [
        "Multiclasse distribution"
      ],
      "metadata": {
        "id": "L35tdXYH1Hkm"
      }
    },
    {
      "cell_type": "code",
      "source": [
        "plt.figure(figsize=(15,6))\n",
        "plt.title(\"FinalGrade Distribution over the 5 categories\")\n",
        "sns.countplot(x=\"Target5Class\", data=df)\n",
        "plt.show()"
      ],
      "metadata": {
        "colab": {
          "base_uri": "https://localhost:8080/",
          "height": 404
        },
        "id": "kWzPe-nrK-XK",
        "outputId": "1ef9e104-643e-41e3-8fd7-02d09437128d"
      },
      "execution_count": 31,
      "outputs": [
        {
          "output_type": "display_data",
          "data": {
            "text/plain": [
              "<Figure size 1080x432 with 1 Axes>"
            ],
            "image/png": "[encoded data removed]"
          },
          "metadata": {
            "needs_background": "light"
          }
        }
      ]
    },
    {
      "cell_type": "markdown",
      "source": [
        "## Data Preprocessing"
      ],
      "metadata": {
        "id": "2aqwGhNxuee7"
      }
    },
    {
      "cell_type": "code",
      "source": [
        "actionable_cols = []"
      ],
      "metadata": {
        "id": "IrqpwdEpyXdG"
      },
      "execution_count": 32,
      "outputs": []
    },
    {
      "cell_type": "code",
      "source": [
        "y1 = df['Target5Class']\n",
        "y2 = df['FinalGrade']\n",
        "X = df.drop(['Target5Class','FinalGrade'],axis=1)"
      ],
      "metadata": {
        "id": "LVCRB3UB0DG-"
      },
      "execution_count": 33,
      "outputs": []
    },
    {
      "cell_type": "markdown",
      "source": [
        "### Train Test Split"
      ],
      "metadata": {
        "id": "67uM5rrAyD8p"
      }
    },
    {
      "cell_type": "code",
      "source": [
        "from sklearn.model_selection import train_test_split\n",
        "\n",
        "X_train, X_test, y_train1, y_test1 = train_test_split(X, y1, test_size = 0.2)\n",
        "X_train, X_test, y_train2, y_test2 = train_test_split(X, y2, test_size = 0.2)"
      ],
      "metadata": {
        "id": "RfF6_9kurmmJ"
      },
      "execution_count": 34,
      "outputs": []
    },
    {
      "cell_type": "markdown",
      "source": [
        "### Transformation"
      ],
      "metadata": {
        "id": "_RYeP_GiuLEf"
      }
    },
    {
      "cell_type": "code",
      "source": [
        "num_cols = X_train.dtypes[X_train.dtypes=='int'].index.to_list()\n",
        "num_cols"
      ],
      "metadata": {
        "colab": {
          "base_uri": "https://localhost:8080/"
        },
        "id": "A1c6NhWl2Va5",
        "outputId": "39c57f7b-fab1-4b94-9f0b-ae76111a96f1"
      },
      "execution_count": 35,
      "outputs": [
        {
          "output_type": "execute_result",
          "data": {
            "text/plain": [
              "['age',\n",
              " 'Medu',\n",
              " 'Fedu',\n",
              " 'traveltime',\n",
              " 'studytime',\n",
              " 'failures',\n",
              " 'famrel',\n",
              " 'freetime',\n",
              " 'goout',\n",
              " 'Dalc',\n",
              " 'Walc',\n",
              " 'health',\n",
              " 'absences']"
            ]
          },
          "metadata": {},
          "execution_count": 35
        }
      ]
    },
    {
      "cell_type": "markdown",
      "source": [
        "Categorical Columns"
      ],
      "metadata": {
        "id": "Kb6UgBVhzsXO"
      }
    },
    {
      "cell_type": "code",
      "source": [
        "cat_cols = X_train.dtypes[X_train.dtypes=='O'].index.to_list()\n",
        "cat_cols"
      ],
      "metadata": {
        "colab": {
          "base_uri": "https://localhost:8080/"
        },
        "id": "_dScURFAbDTT",
        "outputId": "eee3680a-04d5-49b7-d1ad-d2ad1865a8a1"
      },
      "execution_count": 36,
      "outputs": [
        {
          "output_type": "execute_result",
          "data": {
            "text/plain": [
              "['school',\n",
              " 'sex',\n",
              " 'address',\n",
              " 'famsize',\n",
              " 'Pstatus',\n",
              " 'Mjob',\n",
              " 'Fjob',\n",
              " 'reason',\n",
              " 'guardian',\n",
              " 'schoolsup',\n",
              " 'famsup',\n",
              " 'paid',\n",
              " 'activities',\n",
              " 'nursery',\n",
              " 'higher',\n",
              " 'internet',\n",
              " 'romantic']"
            ]
          },
          "metadata": {},
          "execution_count": 36
        }
      ]
    },
    {
      "cell_type": "markdown",
      "source": [
        "Select Actionable Columns"
      ],
      "metadata": {
        "id": "N9QTc6V10fVG"
      }
    },
    {
      "cell_type": "code",
      "source": [
        "actionable"
      ],
      "metadata": {
        "colab": {
          "base_uri": "https://localhost:8080/"
        },
        "id": "5NXY99a00vHS",
        "outputId": "b7ac013b-2ef8-4f01-91b3-c6d08215fc3d"
      },
      "execution_count": 37,
      "outputs": [
        {
          "output_type": "execute_result",
          "data": {
            "text/plain": [
              "['school',\n",
              " 'studytime',\n",
              " 'famsup',\n",
              " 'paid',\n",
              " 'activities',\n",
              " 'internet',\n",
              " 'romantic',\n",
              " 'freetime',\n",
              " 'goout',\n",
              " 'Dalc',\n",
              " 'Walc',\n",
              " 'health']"
            ]
          },
          "metadata": {},
          "execution_count": 37
        }
      ]
    },
    {
      "cell_type": "code",
      "source": [
        "#num_cols = [col for col in num_cols if col in actionable]\n",
        "#num_cols"
      ],
      "metadata": {
        "id": "_0DjaPVZ2jgD"
      },
      "execution_count": 38,
      "outputs": []
    },
    {
      "cell_type": "code",
      "source": [
        "#cat_cols = [col for col in cat_cols if col in actionable]\n",
        "#cat_cols"
      ],
      "metadata": {
        "id": "SZUci5Ur0e1E"
      },
      "execution_count": 39,
      "outputs": []
    },
    {
      "cell_type": "code",
      "source": [
        "from sklearn.preprocessing import OneHotEncoder, StandardScaler\n",
        "from sklearn.compose import ColumnTransformer\n",
        "\n",
        "ct = ColumnTransformer([\n",
        "    ('num', StandardScaler(), num_cols),\n",
        "    ('ohe', OneHotEncoder(sparse=False, handle_unknown='ignore'), cat_cols)\n",
        "\n",
        "], remainder='drop')"
      ],
      "metadata": {
        "id": "DMdDCaypPVN8"
      },
      "execution_count": 40,
      "outputs": []
    },
    {
      "cell_type": "code",
      "source": [
        "ct.fit_transform(X_train).shape"
      ],
      "metadata": {
        "colab": {
          "base_uri": "https://localhost:8080/"
        },
        "id": "S4hOeelHaScY",
        "outputId": "3f989322-3bc5-4613-f03d-ee0ced9864d3"
      },
      "execution_count": 41,
      "outputs": [
        {
          "output_type": "execute_result",
          "data": {
            "text/plain": [
              "(285, 56)"
            ]
          },
          "metadata": {},
          "execution_count": 41
        }
      ]
    },
    {
      "cell_type": "markdown",
      "source": [
        "## Create Model Pipeline"
      ],
      "metadata": {
        "id": "7dX3vud9bzDq"
      }
    },
    {
      "cell_type": "code",
      "source": [
        "from sklearn.pipeline import Pipeline\n",
        "from lightgbm import LGBMRegressor,LGBMClassifier\n",
        "\n",
        "pipe_clf = Pipeline([\n",
        "    (\"trf\", ct),\n",
        "    (\"model\", LGBMClassifier(random_state=0))   \n",
        "])\n",
        "\n",
        "pipe_rgs = Pipeline([\n",
        "    (\"trf\", ct),\n",
        "    (\"model\", LGBMRegressor(random_state=0))   \n",
        "])"
      ],
      "metadata": {
        "id": "ig-6EWEdQEZd"
      },
      "execution_count": 42,
      "outputs": []
    },
    {
      "cell_type": "code",
      "source": [
        "params = {\n",
        "    'model__n_estimators':[100,130,150,170,190],\n",
        "    'model__boosting_type': ['dart', 'gbdt', 'goss']\n",
        "}"
      ],
      "metadata": {
        "id": "iyNPFY2ycWbK"
      },
      "execution_count": 43,
      "outputs": []
    },
    {
      "cell_type": "code",
      "source": [
        "from sklearn.model_selection import GridSearchCV\n",
        "\n",
        "gs_clf = GridSearchCV(pipe_clf, param_grid=params, scoring='neg_root_mean_squared_error', n_jobs=-1)\n",
        "gs_rgs = GridSearchCV(pipe_rgs, param_grid=params, scoring='neg_root_mean_squared_error', n_jobs=-1)"
      ],
      "metadata": {
        "id": "2wxrxIYnc8gq"
      },
      "execution_count": 44,
      "outputs": []
    },
    {
      "cell_type": "markdown",
      "source": [
        "### Fit Models"
      ],
      "metadata": {
        "id": "q9sRQN2Rfsdw"
      }
    },
    {
      "cell_type": "code",
      "source": [
        "gs_clf.fit(X_train,y_train1)"
      ],
      "metadata": {
        "colab": {
          "base_uri": "https://localhost:8080/"
        },
        "id": "jpOtYLAhfWyd",
        "outputId": "338d3e19-0593-4b82-ec08-89d069155a8b"
      },
      "execution_count": 45,
      "outputs": [
        {
          "output_type": "execute_result",
          "data": {
            "text/plain": [
              "GridSearchCV(estimator=Pipeline(steps=[('trf',\n",
              "                                        ColumnTransformer(transformers=[('num',\n",
              "                                                                         StandardScaler(),\n",
              "                                                                         ['age',\n",
              "                                                                          'Medu',\n",
              "                                                                          'Fedu',\n",
              "                                                                          'traveltime',\n",
              "                                                                          'studytime',\n",
              "                                                                          'failures',\n",
              "                                                                          'famrel',\n",
              "                                                                          'freetime',\n",
              "                                                                          'goout',\n",
              "                                                                          'Dalc',\n",
              "                                                                          'Walc',\n",
              "                                                                          'health',\n",
              "                                                                          'absences']),\n",
              "                                                                        ('ohe',\n",
              "                                                                         OneHotEncoder(handle_unknown='ignore',\n",
              "                                                                                       sparse=False),\n",
              "                                                                         ['school',\n",
              "                                                                          'sex',\n",
              "                                                                          'address',\n",
              "                                                                          'famsize',\n",
              "                                                                          'Pstatus',\n",
              "                                                                          'Mjob',\n",
              "                                                                          'Fjob',\n",
              "                                                                          'reason',\n",
              "                                                                          'guardian',\n",
              "                                                                          'schoolsup',\n",
              "                                                                          'famsup',\n",
              "                                                                          'paid',\n",
              "                                                                          'activities',\n",
              "                                                                          'nursery',\n",
              "                                                                          'higher',\n",
              "                                                                          'internet',\n",
              "                                                                          'romantic'])])),\n",
              "                                       ('model',\n",
              "                                        LGBMClassifier(random_state=0))]),\n",
              "             n_jobs=-1,\n",
              "             param_grid={'model__boosting_type': ['dart', 'gbdt', 'goss'],\n",
              "                         'model__n_estimators': [100, 130, 150, 170, 190]},\n",
              "             scoring='neg_root_mean_squared_error')"
            ]
          },
          "metadata": {},
          "execution_count": 45
        }
      ]
    },
    {
      "cell_type": "code",
      "source": [
        "gs_rgs.fit(X_train,y_train2)"
      ],
      "metadata": {
        "colab": {
          "base_uri": "https://localhost:8080/"
        },
        "id": "2dUiXwAkdt3K",
        "outputId": "ca205f58-1afc-4927-bc38-2b11f72e5a1a"
      },
      "execution_count": 46,
      "outputs": [
        {
          "output_type": "execute_result",
          "data": {
            "text/plain": [
              "GridSearchCV(estimator=Pipeline(steps=[('trf',\n",
              "                                        ColumnTransformer(transformers=[('num',\n",
              "                                                                         StandardScaler(),\n",
              "                                                                         ['age',\n",
              "                                                                          'Medu',\n",
              "                                                                          'Fedu',\n",
              "                                                                          'traveltime',\n",
              "                                                                          'studytime',\n",
              "                                                                          'failures',\n",
              "                                                                          'famrel',\n",
              "                                                                          'freetime',\n",
              "                                                                          'goout',\n",
              "                                                                          'Dalc',\n",
              "                                                                          'Walc',\n",
              "                                                                          'health',\n",
              "                                                                          'absences']),\n",
              "                                                                        ('ohe',\n",
              "                                                                         OneHotEncoder(handle_unknown='ignore',\n",
              "                                                                                       sparse=False),\n",
              "                                                                         ['school',\n",
              "                                                                          'sex',\n",
              "                                                                          'address',\n",
              "                                                                          'famsize',\n",
              "                                                                          'Pstatus',\n",
              "                                                                          'Mjob',\n",
              "                                                                          'Fjob',\n",
              "                                                                          'reason',\n",
              "                                                                          'guardian',\n",
              "                                                                          'schoolsup',\n",
              "                                                                          'famsup',\n",
              "                                                                          'paid',\n",
              "                                                                          'activities',\n",
              "                                                                          'nursery',\n",
              "                                                                          'higher',\n",
              "                                                                          'internet',\n",
              "                                                                          'romantic'])])),\n",
              "                                       ('model',\n",
              "                                        LGBMRegressor(random_state=0))]),\n",
              "             n_jobs=-1,\n",
              "             param_grid={'model__boosting_type': ['dart', 'gbdt', 'goss'],\n",
              "                         'model__n_estimators': [100, 130, 150, 170, 190]},\n",
              "             scoring='neg_root_mean_squared_error')"
            ]
          },
          "metadata": {},
          "execution_count": 46
        }
      ]
    },
    {
      "cell_type": "markdown",
      "source": [
        "### Rank Models"
      ],
      "metadata": {
        "id": "gQXLtszpflxA"
      }
    },
    {
      "cell_type": "code",
      "source": [
        "pd.DataFrame(gs_clf.cv_results_).sort_values(by='rank_test_score').head()"
      ],
      "metadata": {
        "colab": {
          "base_uri": "https://localhost:8080/",
          "height": 353
        },
        "id": "rclSsouDf1JG",
        "outputId": "79815e55-0a15-4fce-b750-debc42c53646"
      },
      "execution_count": 47,
      "outputs": [
        {
          "output_type": "execute_result",
          "data": {
            "text/plain": [
              "    mean_fit_time  std_fit_time  mean_score_time  std_score_time  \\\n",
              "10       0.096198      0.005420         0.012607        0.000375   \n",
              "13       0.135040      0.004787         0.014440        0.003307   \n",
              "11       0.117607      0.006859         0.012977        0.000228   \n",
              "12       0.122080      0.006326         0.013219        0.000429   \n",
              "0        0.240931      0.020908         0.014678        0.002146   \n",
              "\n",
              "   param_model__boosting_type param_model__n_estimators  \\\n",
              "10                       goss                       100   \n",
              "13                       goss                       170   \n",
              "11                       goss                       130   \n",
              "12                       goss                       150   \n",
              "0                        dart                       100   \n",
              "\n",
              "                                               params  split0_test_score  \\\n",
              "10  {'model__boosting_type': 'goss', 'model__n_est...          -1.420403   \n",
              "13  {'model__boosting_type': 'goss', 'model__n_est...          -1.538968   \n",
              "11  {'model__boosting_type': 'goss', 'model__n_est...          -1.462994   \n",
              "12  {'model__boosting_type': 'goss', 'model__n_est...          -1.550325   \n",
              "0   {'model__boosting_type': 'dart', 'model__n_est...          -1.456986   \n",
              "\n",
              "    split1_test_score  split2_test_score  split3_test_score  \\\n",
              "10          -1.420403          -1.297771          -1.357242   \n",
              "13          -1.331139          -1.426565          -1.331139   \n",
              "11          -1.450953          -1.407997          -1.426565   \n",
              "12          -1.382852          -1.414214          -1.407997   \n",
              "0           -1.401753          -1.450953          -1.344254   \n",
              "\n",
              "    split4_test_score  mean_test_score  std_test_score  rank_test_score  \n",
              "10          -1.350763        -1.369316        0.046537                1  \n",
              "13          -1.277333        -1.381028        0.092465                2  \n",
              "11          -1.256562        -1.401014        0.074704                3  \n",
              "12          -1.277333        -1.406544        0.087167                4  \n",
              "0           -1.401753        -1.411140        0.040834                5  "
            ],
            "text/html": [
              "\n",
              "  <div id=\"df-84f30c0d-7989-475a-9518-2f6c9d414828\">\n",
              "    <div class=\"colab-df-container\">\n",
              "      <div>\n",
              "<style scoped>\n",
              "    .dataframe tbody tr th:only-of-type {\n",
              "        vertical-align: middle;\n",
              "    }\n",
              "\n",
              "    .dataframe tbody tr th {\n",
              "        vertical-align: top;\n",
              "    }\n",
              "\n",
              "    .dataframe thead th {\n",
              "        text-align: right;\n",
              "    }\n",
              "</style>\n",
              "<table border=\"1\" class=\"dataframe\">\n",
              "  <thead>\n",
              "    <tr style=\"text-align: right;\">\n",
              "      <th></th>\n",
              "      <th>mean_fit_time</th>\n",
              "      <th>std_fit_time</th>\n",
              "      <th>mean_score_time</th>\n",
              "      <th>std_score_time</th>\n",
              "      <th>param_model__boosting_type</th>\n",
              "      <th>param_model__n_estimators</th>\n",
              "      <th>params</th>\n",
              "      <th>split0_test_score</th>\n",
              "      <th>split1_test_score</th>\n",
              "      <th>split2_test_score</th>\n",
              "      <th>split3_test_score</th>\n",
              "      <th>split4_test_score</th>\n",
              "      <th>mean_test_score</th>\n",
              "      <th>std_test_score</th>\n",
              "      <th>rank_test_score</th>\n",
              "    </tr>\n",
              "  </thead>\n",
              "  <tbody>\n",
              "    <tr>\n",
              "      <th>10</th>\n",
              "      <td>0.096198</td>\n",
              "      <td>0.005420</td>\n",
              "      <td>0.012607</td>\n",
              "      <td>0.000375</td>\n",
              "      <td>goss</td>\n",
              "      <td>100</td>\n",
              "      <td>{'model__boosting_type': 'goss', 'model__n_est...</td>\n",
              "      <td>-1.420403</td>\n",
              "      <td>-1.420403</td>\n",
              "      <td>-1.297771</td>\n",
              "      <td>-1.357242</td>\n",
              "      <td>-1.350763</td>\n",
              "      <td>-1.369316</td>\n",
              "      <td>0.046537</td>\n",
              "      <td>1</td>\n",
              "    </tr>\n",
              "    <tr>\n",
              "      <th>13</th>\n",
              "      <td>0.135040</td>\n",
              "      <td>0.004787</td>\n",
              "      <td>0.014440</td>\n",
              "      <td>0.003307</td>\n",
              "      <td>goss</td>\n",
              "      <td>170</td>\n",
              "      <td>{'model__boosting_type': 'goss', 'model__n_est...</td>\n",
              "      <td>-1.538968</td>\n",
              "      <td>-1.331139</td>\n",
              "      <td>-1.426565</td>\n",
              "      <td>-1.331139</td>\n",
              "      <td>-1.277333</td>\n",
              "      <td>-1.381028</td>\n",
              "      <td>0.092465</td>\n",
              "      <td>2</td>\n",
              "    </tr>\n",
              "    <tr>\n",
              "      <th>11</th>\n",
              "      <td>0.117607</td>\n",
              "      <td>0.006859</td>\n",
              "      <td>0.012977</td>\n",
              "      <td>0.000228</td>\n",
              "      <td>goss</td>\n",
              "      <td>130</td>\n",
              "      <td>{'model__boosting_type': 'goss', 'model__n_est...</td>\n",
              "      <td>-1.462994</td>\n",
              "      <td>-1.450953</td>\n",
              "      <td>-1.407997</td>\n",
              "      <td>-1.426565</td>\n",
              "      <td>-1.256562</td>\n",
              "      <td>-1.401014</td>\n",
              "      <td>0.074704</td>\n",
              "      <td>3</td>\n",
              "    </tr>\n",
              "    <tr>\n",
              "      <th>12</th>\n",
              "      <td>0.122080</td>\n",
              "      <td>0.006326</td>\n",
              "      <td>0.013219</td>\n",
              "      <td>0.000429</td>\n",
              "      <td>goss</td>\n",
              "      <td>150</td>\n",
              "      <td>{'model__boosting_type': 'goss', 'model__n_est...</td>\n",
              "      <td>-1.550325</td>\n",
              "      <td>-1.382852</td>\n",
              "      <td>-1.414214</td>\n",
              "      <td>-1.407997</td>\n",
              "      <td>-1.277333</td>\n",
              "      <td>-1.406544</td>\n",
              "      <td>0.087167</td>\n",
              "      <td>4</td>\n",
              "    </tr>\n",
              "    <tr>\n",
              "      <th>0</th>\n",
              "      <td>0.240931</td>\n",
              "      <td>0.020908</td>\n",
              "      <td>0.014678</td>\n",
              "      <td>0.002146</td>\n",
              "      <td>dart</td>\n",
              "      <td>100</td>\n",
              "      <td>{'model__boosting_type': 'dart', 'model__n_est...</td>\n",
              "      <td>-1.456986</td>\n",
              "      <td>-1.401753</td>\n",
              "      <td>-1.450953</td>\n",
              "      <td>-1.344254</td>\n",
              "      <td>-1.401753</td>\n",
              "      <td>-1.411140</td>\n",
              "      <td>0.040834</td>\n",
              "      <td>5</td>\n",
              "    </tr>\n",
              "  </tbody>\n",
              "</table>\n",
              "</div>\n",
              "      <button class=\"colab-df-convert\" onclick=\"convertToInteractive('df-84f30c0d-7989-475a-9518-2f6c9d414828')\"\n",
              "              title=\"Convert this dataframe to an interactive table.\"\n",
              "              style=\"display:none;\">\n",
              "        \n",
              "  <svg xmlns=\"http://www.w3.org/2000/svg\" height=\"24px\"viewBox=\"0 0 24 24\"\n",
              "       width=\"24px\">\n",
              "    <path d=\"M0 0h24v24H0V0z\" fill=\"none\"/>\n",
              "    <path d=\"M18.56 5.44l.94 2.06.94-2.06 2.06-.94-2.06-.94-.94-2.06-.94 2.06-2.06.94zm-11 1L8.5 8.5l.94-2.06 2.06-.94-2.06-.94L8.5 2.5l-.94 2.06-2.06.94zm10 10l.94 2.06.94-2.06 2.06-.94-2.06-.94-.94-2.06-.94 2.06-2.06.94z\"/><path d=\"M17.41 7.96l-1.37-1.37c-.4-.4-.92-.59-1.43-.59-.52 0-1.04.2-1.43.59L10.3 9.45l-7.72 7.72c-.78.78-.78 2.05 0 2.83L4 21.41c.39.39.9.59 1.41.59.51 0 1.02-.2 1.41-.59l7.78-7.78 2.81-2.81c.8-.78.8-2.07 0-2.86zM5.41 20L4 18.59l7.72-7.72 1.47 1.35L5.41 20z\"/>\n",
              "  </svg>\n",
              "      </button>\n",
              "      \n",
              "  <style>\n",
              "    .colab-df-container {\n",
              "      display:flex;\n",
              "      flex-wrap:wrap;\n",
              "      gap: 12px;\n",
              "    }\n",
              "\n",
              "    .colab-df-convert {\n",
              "      background-color: #E8F0FE;\n",
              "      border: none;\n",
              "      border-radius: 50%;\n",
              "      cursor: pointer;\n",
              "      display: none;\n",
              "      fill: #1967D2;\n",
              "      height: 32px;\n",
              "      padding: 0 0 0 0;\n",
              "      width: 32px;\n",
              "    }\n",
              "\n",
              "    .colab-df-convert:hover {\n",
              "      background-color: #E2EBFA;\n",
              "      box-shadow: 0px 1px 2px rgba(60, 64, 67, 0.3), 0px 1px 3px 1px rgba(60, 64, 67, 0.15);\n",
              "      fill: #174EA6;\n",
              "    }\n",
              "\n",
              "    [theme=dark] .colab-df-convert {\n",
              "      background-color: #3B4455;\n",
              "      fill: #D2E3FC;\n",
              "    }\n",
              "\n",
              "    [theme=dark] .colab-df-convert:hover {\n",
              "      background-color: #434B5C;\n",
              "      box-shadow: 0px 1px 3px 1px rgba(0, 0, 0, 0.15);\n",
              "      filter: drop-shadow(0px 1px 2px rgba(0, 0, 0, 0.3));\n",
              "      fill: #FFFFFF;\n",
              "    }\n",
              "  </style>\n",
              "\n",
              "      <script>\n",
              "        const buttonEl =\n",
              "          document.querySelector('#df-84f30c0d-7989-475a-9518-2f6c9d414828 button.colab-df-convert');\n",
              "        buttonEl.style.display =\n",
              "          google.colab.kernel.accessAllowed ? 'block' : 'none';\n",
              "\n",
              "        async function convertToInteractive(key) {\n",
              "          const element = document.querySelector('#df-84f30c0d-7989-475a-9518-2f6c9d414828');\n",
              "          const dataTable =\n",
              "            await google.colab.kernel.invokeFunction('convertToInteractive',\n",
              "                                                     [key], {});\n",
              "          if (!dataTable) return;\n",
              "\n",
              "          const docLinkHtml = 'Like what you see? Visit the ' +\n",
              "            '<a target=\"_blank\" href=https://colab.research.google.com/notebooks/data_table.ipynb>data table notebook</a>'\n",
              "            + ' to learn more about interactive tables.';\n",
              "          element.innerHTML = '';\n",
              "          dataTable['output_type'] = 'display_data';\n",
              "          await google.colab.output.renderOutput(dataTable, element);\n",
              "          const docLink = document.createElement('div');\n",
              "          docLink.innerHTML = docLinkHtml;\n",
              "          element.appendChild(docLink);\n",
              "        }\n",
              "      </script>\n",
              "    </div>\n",
              "  </div>\n",
              "  "
            ]
          },
          "metadata": {},
          "execution_count": 47
        }
      ]
    },
    {
      "cell_type": "code",
      "source": [
        "pd.DataFrame(gs_rgs.cv_results_).sort_values(by='rank_test_score').head()"
      ],
      "metadata": {
        "colab": {
          "base_uri": "https://localhost:8080/",
          "height": 353
        },
        "id": "rke74tz8eEar",
        "outputId": "10d6fa8d-51fd-4b32-ca5b-d0dbaaf4f69a"
      },
      "execution_count": 48,
      "outputs": [
        {
          "output_type": "execute_result",
          "data": {
            "text/plain": [
              "   mean_fit_time  std_fit_time  mean_score_time  std_score_time  \\\n",
              "4       0.121161      0.008265         0.012491        0.000556   \n",
              "2       0.102533      0.003802         0.015206        0.006185   \n",
              "5       0.053022      0.004191         0.012361        0.000615   \n",
              "3       0.109655      0.007382         0.012167        0.000473   \n",
              "1       0.085802      0.006241         0.012500        0.000790   \n",
              "\n",
              "  param_model__boosting_type param_model__n_estimators  \\\n",
              "4                       dart                       190   \n",
              "2                       dart                       150   \n",
              "5                       gbdt                       100   \n",
              "3                       dart                       170   \n",
              "1                       dart                       130   \n",
              "\n",
              "                                              params  split0_test_score  \\\n",
              "4  {'model__boosting_type': 'dart', 'model__n_est...          -3.357671   \n",
              "2  {'model__boosting_type': 'dart', 'model__n_est...          -3.375702   \n",
              "5  {'model__boosting_type': 'gbdt', 'model__n_est...          -3.508779   \n",
              "3  {'model__boosting_type': 'dart', 'model__n_est...          -3.382647   \n",
              "1  {'model__boosting_type': 'dart', 'model__n_est...          -3.429264   \n",
              "\n",
              "   split1_test_score  split2_test_score  split3_test_score  split4_test_score  \\\n",
              "4          -3.563958          -3.111605          -3.269667          -2.892326   \n",
              "2          -3.624179          -3.193280          -3.320591          -2.803205   \n",
              "5          -3.499186          -3.150515          -3.128125          -3.241887   \n",
              "3          -3.674901          -3.263596          -3.422539          -2.789580   \n",
              "1          -3.689221          -3.248758          -3.404838          -2.801270   \n",
              "\n",
              "   mean_test_score  std_test_score  rank_test_score  \n",
              "4        -3.239045        0.226730                1  \n",
              "2        -3.263392        0.269347                2  \n",
              "5        -3.305698        0.166352                3  \n",
              "3        -3.306652        0.291215                4  \n",
              "1        -3.314670        0.293078                5  "
            ],
            "text/html": [
              "\n",
              "  <div id=\"df-504f7200-a86c-4f5a-a9c4-93995f78b112\">\n",
              "    <div class=\"colab-df-container\">\n",
              "      <div>\n",
              "<style scoped>\n",
              "    .dataframe tbody tr th:only-of-type {\n",
              "        vertical-align: middle;\n",
              "    }\n",
              "\n",
              "    .dataframe tbody tr th {\n",
              "        vertical-align: top;\n",
              "    }\n",
              "\n",
              "    .dataframe thead th {\n",
              "        text-align: right;\n",
              "    }\n",
              "</style>\n",
              "<table border=\"1\" class=\"dataframe\">\n",
              "  <thead>\n",
              "    <tr style=\"text-align: right;\">\n",
              "      <th></th>\n",
              "      <th>mean_fit_time</th>\n",
              "      <th>std_fit_time</th>\n",
              "      <th>mean_score_time</th>\n",
              "      <th>std_score_time</th>\n",
              "      <th>param_model__boosting_type</th>\n",
              "      <th>param_model__n_estimators</th>\n",
              "      <th>params</th>\n",
              "      <th>split0_test_score</th>\n",
              "      <th>split1_test_score</th>\n",
              "      <th>split2_test_score</th>\n",
              "      <th>split3_test_score</th>\n",
              "      <th>split4_test_score</th>\n",
              "      <th>mean_test_score</th>\n",
              "      <th>std_test_score</th>\n",
              "      <th>rank_test_score</th>\n",
              "    </tr>\n",
              "  </thead>\n",
              "  <tbody>\n",
              "    <tr>\n",
              "      <th>4</th>\n",
              "      <td>0.121161</td>\n",
              "      <td>0.008265</td>\n",
              "      <td>0.012491</td>\n",
              "      <td>0.000556</td>\n",
              "      <td>dart</td>\n",
              "      <td>190</td>\n",
              "      <td>{'model__boosting_type': 'dart', 'model__n_est...</td>\n",
              "      <td>-3.357671</td>\n",
              "      <td>-3.563958</td>\n",
              "      <td>-3.111605</td>\n",
              "      <td>-3.269667</td>\n",
              "      <td>-2.892326</td>\n",
              "      <td>-3.239045</td>\n",
              "      <td>0.226730</td>\n",
              "      <td>1</td>\n",
              "    </tr>\n",
              "    <tr>\n",
              "      <th>2</th>\n",
              "      <td>0.102533</td>\n",
              "      <td>0.003802</td>\n",
              "      <td>0.015206</td>\n",
              "      <td>0.006185</td>\n",
              "      <td>dart</td>\n",
              "      <td>150</td>\n",
              "      <td>{'model__boosting_type': 'dart', 'model__n_est...</td>\n",
              "      <td>-3.375702</td>\n",
              "      <td>-3.624179</td>\n",
              "      <td>-3.193280</td>\n",
              "      <td>-3.320591</td>\n",
              "      <td>-2.803205</td>\n",
              "      <td>-3.263392</td>\n",
              "      <td>0.269347</td>\n",
              "      <td>2</td>\n",
              "    </tr>\n",
              "    <tr>\n",
              "      <th>5</th>\n",
              "      <td>0.053022</td>\n",
              "      <td>0.004191</td>\n",
              "      <td>0.012361</td>\n",
              "      <td>0.000615</td>\n",
              "      <td>gbdt</td>\n",
              "      <td>100</td>\n",
              "      <td>{'model__boosting_type': 'gbdt', 'model__n_est...</td>\n",
              "      <td>-3.508779</td>\n",
              "      <td>-3.499186</td>\n",
              "      <td>-3.150515</td>\n",
              "      <td>-3.128125</td>\n",
              "      <td>-3.241887</td>\n",
              "      <td>-3.305698</td>\n",
              "      <td>0.166352</td>\n",
              "      <td>3</td>\n",
              "    </tr>\n",
              "    <tr>\n",
              "      <th>3</th>\n",
              "      <td>0.109655</td>\n",
              "      <td>0.007382</td>\n",
              "      <td>0.012167</td>\n",
              "      <td>0.000473</td>\n",
              "      <td>dart</td>\n",
              "      <td>170</td>\n",
              "      <td>{'model__boosting_type': 'dart', 'model__n_est...</td>\n",
              "      <td>-3.382647</td>\n",
              "      <td>-3.674901</td>\n",
              "      <td>-3.263596</td>\n",
              "      <td>-3.422539</td>\n",
              "      <td>-2.789580</td>\n",
              "      <td>-3.306652</td>\n",
              "      <td>0.291215</td>\n",
              "      <td>4</td>\n",
              "    </tr>\n",
              "    <tr>\n",
              "      <th>1</th>\n",
              "      <td>0.085802</td>\n",
              "      <td>0.006241</td>\n",
              "      <td>0.012500</td>\n",
              "      <td>0.000790</td>\n",
              "      <td>dart</td>\n",
              "      <td>130</td>\n",
              "      <td>{'model__boosting_type': 'dart', 'model__n_est...</td>\n",
              "      <td>-3.429264</td>\n",
              "      <td>-3.689221</td>\n",
              "      <td>-3.248758</td>\n",
              "      <td>-3.404838</td>\n",
              "      <td>-2.801270</td>\n",
              "      <td>-3.314670</td>\n",
              "      <td>0.293078</td>\n",
              "      <td>5</td>\n",
              "    </tr>\n",
              "  </tbody>\n",
              "</table>\n",
              "</div>\n",
              "      <button class=\"colab-df-convert\" onclick=\"convertToInteractive('df-504f7200-a86c-4f5a-a9c4-93995f78b112')\"\n",
              "              title=\"Convert this dataframe to an interactive table.\"\n",
              "              style=\"display:none;\">\n",
              "        \n",
              "  <svg xmlns=\"http://www.w3.org/2000/svg\" height=\"24px\"viewBox=\"0 0 24 24\"\n",
              "       width=\"24px\">\n",
              "    <path d=\"M0 0h24v24H0V0z\" fill=\"none\"/>\n",
              "    <path d=\"M18.56 5.44l.94 2.06.94-2.06 2.06-.94-2.06-.94-.94-2.06-.94 2.06-2.06.94zm-11 1L8.5 8.5l.94-2.06 2.06-.94-2.06-.94L8.5 2.5l-.94 2.06-2.06.94zm10 10l.94 2.06.94-2.06 2.06-.94-2.06-.94-.94-2.06-.94 2.06-2.06.94z\"/><path d=\"M17.41 7.96l-1.37-1.37c-.4-.4-.92-.59-1.43-.59-.52 0-1.04.2-1.43.59L10.3 9.45l-7.72 7.72c-.78.78-.78 2.05 0 2.83L4 21.41c.39.39.9.59 1.41.59.51 0 1.02-.2 1.41-.59l7.78-7.78 2.81-2.81c.8-.78.8-2.07 0-2.86zM5.41 20L4 18.59l7.72-7.72 1.47 1.35L5.41 20z\"/>\n",
              "  </svg>\n",
              "      </button>\n",
              "      \n",
              "  <style>\n",
              "    .colab-df-container {\n",
              "      display:flex;\n",
              "      flex-wrap:wrap;\n",
              "      gap: 12px;\n",
              "    }\n",
              "\n",
              "    .colab-df-convert {\n",
              "      background-color: #E8F0FE;\n",
              "      border: none;\n",
              "      border-radius: 50%;\n",
              "      cursor: pointer;\n",
              "      display: none;\n",
              "      fill: #1967D2;\n",
              "      height: 32px;\n",
              "      padding: 0 0 0 0;\n",
              "      width: 32px;\n",
              "    }\n",
              "\n",
              "    .colab-df-convert:hover {\n",
              "      background-color: #E2EBFA;\n",
              "      box-shadow: 0px 1px 2px rgba(60, 64, 67, 0.3), 0px 1px 3px 1px rgba(60, 64, 67, 0.15);\n",
              "      fill: #174EA6;\n",
              "    }\n",
              "\n",
              "    [theme=dark] .colab-df-convert {\n",
              "      background-color: #3B4455;\n",
              "      fill: #D2E3FC;\n",
              "    }\n",
              "\n",
              "    [theme=dark] .colab-df-convert:hover {\n",
              "      background-color: #434B5C;\n",
              "      box-shadow: 0px 1px 3px 1px rgba(0, 0, 0, 0.15);\n",
              "      filter: drop-shadow(0px 1px 2px rgba(0, 0, 0, 0.3));\n",
              "      fill: #FFFFFF;\n",
              "    }\n",
              "  </style>\n",
              "\n",
              "      <script>\n",
              "        const buttonEl =\n",
              "          document.querySelector('#df-504f7200-a86c-4f5a-a9c4-93995f78b112 button.colab-df-convert');\n",
              "        buttonEl.style.display =\n",
              "          google.colab.kernel.accessAllowed ? 'block' : 'none';\n",
              "\n",
              "        async function convertToInteractive(key) {\n",
              "          const element = document.querySelector('#df-504f7200-a86c-4f5a-a9c4-93995f78b112');\n",
              "          const dataTable =\n",
              "            await google.colab.kernel.invokeFunction('convertToInteractive',\n",
              "                                                     [key], {});\n",
              "          if (!dataTable) return;\n",
              "\n",
              "          const docLinkHtml = 'Like what you see? Visit the ' +\n",
              "            '<a target=\"_blank\" href=https://colab.research.google.com/notebooks/data_table.ipynb>data table notebook</a>'\n",
              "            + ' to learn more about interactive tables.';\n",
              "          element.innerHTML = '';\n",
              "          dataTable['output_type'] = 'display_data';\n",
              "          await google.colab.output.renderOutput(dataTable, element);\n",
              "          const docLink = document.createElement('div');\n",
              "          docLink.innerHTML = docLinkHtml;\n",
              "          element.appendChild(docLink);\n",
              "        }\n",
              "      </script>\n",
              "    </div>\n",
              "  </div>\n",
              "  "
            ]
          },
          "metadata": {},
          "execution_count": 48
        }
      ]
    },
    {
      "cell_type": "markdown",
      "source": [
        "### Model Best Params"
      ],
      "metadata": {
        "id": "v0zCymxjfHVK"
      }
    },
    {
      "cell_type": "code",
      "source": [
        "gs_clf.best_params_"
      ],
      "metadata": {
        "colab": {
          "base_uri": "https://localhost:8080/"
        },
        "id": "CT8cL84rfQ_4",
        "outputId": "54d0ea9a-3119-4a07-a91d-334b37f36da2"
      },
      "execution_count": 49,
      "outputs": [
        {
          "output_type": "execute_result",
          "data": {
            "text/plain": [
              "{'model__boosting_type': 'goss', 'model__n_estimators': 100}"
            ]
          },
          "metadata": {},
          "execution_count": 49
        }
      ]
    },
    {
      "cell_type": "code",
      "source": [
        "gs_rgs.best_params_"
      ],
      "metadata": {
        "colab": {
          "base_uri": "https://localhost:8080/"
        },
        "id": "Q-bhu56tfGwX",
        "outputId": "9d4a23fd-2871-45fd-b3c0-8ca23f3cd0ed"
      },
      "execution_count": 50,
      "outputs": [
        {
          "output_type": "execute_result",
          "data": {
            "text/plain": [
              "{'model__boosting_type': 'dart', 'model__n_estimators': 190}"
            ]
          },
          "metadata": {},
          "execution_count": 50
        }
      ]
    },
    {
      "cell_type": "markdown",
      "source": [
        "### Model Best Score"
      ],
      "metadata": {
        "id": "OqCocZf6zK6v"
      }
    },
    {
      "cell_type": "code",
      "source": [
        "gs_clf.best_score_"
      ],
      "metadata": {
        "id": "JNKQTj4Kz7Zf",
        "colab": {
          "base_uri": "https://localhost:8080/"
        },
        "outputId": "ecf40954-4e0f-47cd-9e40-95e5e5ce9348"
      },
      "execution_count": 51,
      "outputs": [
        {
          "output_type": "execute_result",
          "data": {
            "text/plain": [
              "-1.3693163683781202"
            ]
          },
          "metadata": {},
          "execution_count": 51
        }
      ]
    },
    {
      "cell_type": "code",
      "source": [
        "gs_rgs.best_score_"
      ],
      "metadata": {
        "colab": {
          "base_uri": "https://localhost:8080/"
        },
        "id": "KJMV7M7ygDYc",
        "outputId": "a515d40d-6dbe-44e3-88c8-5a62a4a04002"
      },
      "execution_count": 52,
      "outputs": [
        {
          "output_type": "execute_result",
          "data": {
            "text/plain": [
              "-3.2390452030748285"
            ]
          },
          "metadata": {},
          "execution_count": 52
        }
      ]
    },
    {
      "cell_type": "markdown",
      "source": [
        "## Save Best Model"
      ],
      "metadata": {
        "id": "h1_gGdmb5Z5t"
      }
    },
    {
      "cell_type": "code",
      "source": [
        "gs_clf.best_estimator_"
      ],
      "metadata": {
        "id": "skV-w1D007_m",
        "colab": {
          "base_uri": "https://localhost:8080/"
        },
        "outputId": "4e4b4250-aeb2-43c0-ffc0-002982ccbc64"
      },
      "execution_count": 53,
      "outputs": [
        {
          "output_type": "execute_result",
          "data": {
            "text/plain": [
              "Pipeline(steps=[('trf',\n",
              "                 ColumnTransformer(transformers=[('num', StandardScaler(),\n",
              "                                                  ['age', 'Medu', 'Fedu',\n",
              "                                                   'traveltime', 'studytime',\n",
              "                                                   'failures', 'famrel',\n",
              "                                                   'freetime', 'goout', 'Dalc',\n",
              "                                                   'Walc', 'health',\n",
              "                                                   'absences']),\n",
              "                                                 ('ohe',\n",
              "                                                  OneHotEncoder(handle_unknown='ignore',\n",
              "                                                                sparse=False),\n",
              "                                                  ['school', 'sex', 'address',\n",
              "                                                   'famsize', 'Pstatus', 'Mjob',\n",
              "                                                   'Fjob', 'reason', 'guardian',\n",
              "                                                   'schoolsup', 'famsup',\n",
              "                                                   'paid', 'activities',\n",
              "                                                   'nursery', 'higher',\n",
              "                                                   'internet', 'romantic'])])),\n",
              "                ('model',\n",
              "                 LGBMClassifier(boosting_type='goss', random_state=0))])"
            ]
          },
          "metadata": {},
          "execution_count": 53
        }
      ]
    },
    {
      "cell_type": "code",
      "source": [
        "gs_rgs.best_estimator_"
      ],
      "metadata": {
        "colab": {
          "base_uri": "https://localhost:8080/"
        },
        "id": "8ga6KLD_gdYH",
        "outputId": "129aefde-ab8d-443c-831a-7d8b6f197849"
      },
      "execution_count": 54,
      "outputs": [
        {
          "output_type": "execute_result",
          "data": {
            "text/plain": [
              "Pipeline(steps=[('trf',\n",
              "                 ColumnTransformer(transformers=[('num', StandardScaler(),\n",
              "                                                  ['age', 'Medu', 'Fedu',\n",
              "                                                   'traveltime', 'studytime',\n",
              "                                                   'failures', 'famrel',\n",
              "                                                   'freetime', 'goout', 'Dalc',\n",
              "                                                   'Walc', 'health',\n",
              "                                                   'absences']),\n",
              "                                                 ('ohe',\n",
              "                                                  OneHotEncoder(handle_unknown='ignore',\n",
              "                                                                sparse=False),\n",
              "                                                  ['school', 'sex', 'address',\n",
              "                                                   'famsize', 'Pstatus', 'Mjob',\n",
              "                                                   'Fjob', 'reason', 'guardian',\n",
              "                                                   'schoolsup', 'famsup',\n",
              "                                                   'paid', 'activities',\n",
              "                                                   'nursery', 'higher',\n",
              "                                                   'internet', 'romantic'])])),\n",
              "                ('model',\n",
              "                 LGBMRegressor(boosting_type='dart', n_estimators=190,\n",
              "                               random_state=0))])"
            ]
          },
          "metadata": {},
          "execution_count": 54
        }
      ]
    },
    {
      "cell_type": "code",
      "source": [
        "# save into file\n",
        "import joblib\n",
        "\n",
        "filename_clf = os.path.join(main_folder,'clf_model.joblib')\n",
        "joblib.dump(gs_clf.best_estimator_, open(filename_clf, 'wb'))"
      ],
      "metadata": {
        "id": "E3TtDH6l5cnF"
      },
      "execution_count": 55,
      "outputs": []
    },
    {
      "cell_type": "code",
      "source": [
        "filename_rgs = os.path.join(main_folder,'rgs_model.joblib')\n",
        "joblib.dump(gs_rgs.best_estimator_, open(filename_rgs, 'wb'))"
      ],
      "metadata": {
        "id": "zS09TBUYhBCo"
      },
      "execution_count": 56,
      "outputs": []
    },
    {
      "cell_type": "markdown",
      "source": [
        "## Import Model"
      ],
      "metadata": {
        "id": "nR0EwXehhKYb"
      }
    },
    {
      "cell_type": "code",
      "source": [
        "# load the model from disk\n",
        "loaded_clf_model = joblib.load(open(filename_clf, 'rb'))\n",
        "loaded_rgs_model = joblib.load(open(filename_rgs, 'rb'))"
      ],
      "metadata": {
        "id": "31BEUo1w6BgV"
      },
      "execution_count": 57,
      "outputs": []
    },
    {
      "cell_type": "markdown",
      "source": [
        "## Predict"
      ],
      "metadata": {
        "id": "WSAZnboAiPHa"
      }
    },
    {
      "cell_type": "code",
      "source": [
        "y_pred_clf = loaded_clf_model.predict(X_test)\n",
        "y_pred_clf"
      ],
      "metadata": {
        "colab": {
          "base_uri": "https://localhost:8080/"
        },
        "id": "p6C7ioOjvGxy",
        "outputId": "90a93fac-9ef4-4b34-a371-80fb502d9dbb"
      },
      "execution_count": 71,
      "outputs": [
        {
          "output_type": "execute_result",
          "data": {
            "text/plain": [
              "array([2, 4, 4, 4, 3, 4, 4, 2, 4, 4, 4, 2, 4, 4, 4, 4, 4, 2, 2, 4, 3, 4,\n",
              "       4, 5, 2, 3, 2, 3, 2, 4, 3, 4, 4, 4, 5, 3, 4, 2, 2, 3, 4, 4, 2, 4,\n",
              "       2, 4, 4, 1, 3, 3, 3, 3, 4, 3, 4, 3, 3, 4, 2, 3, 4, 2, 3, 2, 2, 4,\n",
              "       4, 5, 4, 4, 3, 3])"
            ]
          },
          "metadata": {},
          "execution_count": 71
        }
      ]
    },
    {
      "cell_type": "code",
      "source": [
        "y_pred_rgs = np.round(loaded_rgs_model.predict(X_test),0)\n",
        "y_pred_rgs"
      ],
      "metadata": {
        "colab": {
          "base_uri": "https://localhost:8080/"
        },
        "id": "48g4_c-5vXZs",
        "outputId": "f21744b0-e43c-40df-8302-0248d1bafc7f"
      },
      "execution_count": 72,
      "outputs": [
        {
          "output_type": "execute_result",
          "data": {
            "text/plain": [
              "array([14.,  8., 11., 12., 10.,  8.,  9., 10., 11., 10., 11., 15., 12.,\n",
              "        9., 11., 13.,  8., 11., 13., 13., 13., 11., 14., 10., 10., 11.,\n",
              "       11., 11., 12., 11., 13., 11., 12., 14.,  9., 11., 14., 13.,  9.,\n",
              "        8., 12., 13., 13., 11., 13., 11., 11., 13., 13., 13., 13., 14.,\n",
              "       10., 12., 12., 11., 11., 12., 10., 10.,  9., 10., 10., 11., 12.,\n",
              "       11., 13.,  8.,  9., 12.,  9., 13.])"
            ]
          },
          "metadata": {},
          "execution_count": 72
        }
      ]
    },
    {
      "cell_type": "markdown",
      "source": [
        "## Evaluate"
      ],
      "metadata": {
        "id": "WmhboadMvoGJ"
      }
    },
    {
      "cell_type": "code",
      "source": [
        "from sklearn.metrics import accuracy_score, mean_squared_error\n",
        "\n",
        "print(f\"Classifier Evaluation {accuracy_score(y_test1,y_pred_clf)}\")\n",
        "print(f\"Regressor Evaluation {mean_squared_error(y_test2,y_pred_rgs)}\")"
      ],
      "metadata": {
        "colab": {
          "base_uri": "https://localhost:8080/"
        },
        "id": "EKsN5r9PvdrU",
        "outputId": "d45831fd-5595-438f-c635-42364bebf734"
      },
      "execution_count": 73,
      "outputs": [
        {
          "output_type": "stream",
          "name": "stdout",
          "text": [
            "Classifier Evaluation 0.25\n",
            "Regressor Evaluation 5.916666666666667\n"
          ]
        }
      ]
    },
    {
      "cell_type": "markdown",
      "source": [
        "### New Student"
      ],
      "metadata": {
        "id": "tzpRhEBvvePk"
      }
    },
    {
      "cell_type": "code",
      "source": [
        "# new_student_value = X.iloc[0].to_list()\n",
        "\n",
        "new_student_value = ['GP', 'M', 18, 'U', 'GT3', 'A', 4, 4, 'at_home', 'teacher',\n",
        " 'course', 'father', 2, 2, 0, 'no', 'no', 'no', 'yes', 'yes', 'yes',\n",
        " 'no', 'no', 4, 3, 4, 1, 1, 2, 12]"
      ],
      "metadata": {
        "id": "4bHkmjjyj0KU"
      },
      "execution_count": 74,
      "outputs": []
    },
    {
      "cell_type": "code",
      "source": [
        "new_student = pd.DataFrame([new_student_value],columns = X.columns)\n",
        "new_student"
      ],
      "metadata": {
        "colab": {
          "base_uri": "https://localhost:8080/",
          "height": 173
        },
        "id": "EzvlEXq-hbfc",
        "outputId": "2aadc93b-a088-42c3-cebe-cce6da8d6781"
      },
      "execution_count": 75,
      "outputs": [
        {
          "output_type": "execute_result",
          "data": {
            "text/plain": [
              "  school sex  age address famsize Pstatus  Medu  Fedu     Mjob     Fjob  ...  \\\n",
              "0     GP   M   18       U     GT3       A     4     4  at_home  teacher  ...   \n",
              "\n",
              "  higher internet  romantic  famrel  freetime goout Dalc Walc health absences  \n",
              "0    yes       no        no       4         3     4    1    1      2       12  \n",
              "\n",
              "[1 rows x 30 columns]"
            ],
            "text/html": [
              "\n",
              "  <div id=\"df-08ac20a7-78a3-4a51-b398-f86f24f3436e\">\n",
              "    <div class=\"colab-df-container\">\n",
              "      <div>\n",
              "<style scoped>\n",
              "    .dataframe tbody tr th:only-of-type {\n",
              "        vertical-align: middle;\n",
              "    }\n",
              "\n",
              "    .dataframe tbody tr th {\n",
              "        vertical-align: top;\n",
              "    }\n",
              "\n",
              "    .dataframe thead th {\n",
              "        text-align: right;\n",
              "    }\n",
              "</style>\n",
              "<table border=\"1\" class=\"dataframe\">\n",
              "  <thead>\n",
              "    <tr style=\"text-align: right;\">\n",
              "      <th></th>\n",
              "      <th>school</th>\n",
              "      <th>sex</th>\n",
              "      <th>age</th>\n",
              "      <th>address</th>\n",
              "      <th>famsize</th>\n",
              "      <th>Pstatus</th>\n",
              "      <th>Medu</th>\n",
              "      <th>Fedu</th>\n",
              "      <th>Mjob</th>\n",
              "      <th>Fjob</th>\n",
              "      <th>...</th>\n",
              "      <th>higher</th>\n",
              "      <th>internet</th>\n",
              "      <th>romantic</th>\n",
              "      <th>famrel</th>\n",
              "      <th>freetime</th>\n",
              "      <th>goout</th>\n",
              "      <th>Dalc</th>\n",
              "      <th>Walc</th>\n",
              "      <th>health</th>\n",
              "      <th>absences</th>\n",
              "    </tr>\n",
              "  </thead>\n",
              "  <tbody>\n",
              "    <tr>\n",
              "      <th>0</th>\n",
              "      <td>GP</td>\n",
              "      <td>M</td>\n",
              "      <td>18</td>\n",
              "      <td>U</td>\n",
              "      <td>GT3</td>\n",
              "      <td>A</td>\n",
              "      <td>4</td>\n",
              "      <td>4</td>\n",
              "      <td>at_home</td>\n",
              "      <td>teacher</td>\n",
              "      <td>...</td>\n",
              "      <td>yes</td>\n",
              "      <td>no</td>\n",
              "      <td>no</td>\n",
              "      <td>4</td>\n",
              "      <td>3</td>\n",
              "      <td>4</td>\n",
              "      <td>1</td>\n",
              "      <td>1</td>\n",
              "      <td>2</td>\n",
              "      <td>12</td>\n",
              "    </tr>\n",
              "  </tbody>\n",
              "</table>\n",
              "<p>1 rows × 30 columns</p>\n",
              "</div>\n",
              "      <button class=\"colab-df-convert\" onclick=\"convertToInteractive('df-08ac20a7-78a3-4a51-b398-f86f24f3436e')\"\n",
              "              title=\"Convert this dataframe to an interactive table.\"\n",
              "              style=\"display:none;\">\n",
              "        \n",
              "  <svg xmlns=\"http://www.w3.org/2000/svg\" height=\"24px\"viewBox=\"0 0 24 24\"\n",
              "       width=\"24px\">\n",
              "    <path d=\"M0 0h24v24H0V0z\" fill=\"none\"/>\n",
              "    <path d=\"M18.56 5.44l.94 2.06.94-2.06 2.06-.94-2.06-.94-.94-2.06-.94 2.06-2.06.94zm-11 1L8.5 8.5l.94-2.06 2.06-.94-2.06-.94L8.5 2.5l-.94 2.06-2.06.94zm10 10l.94 2.06.94-2.06 2.06-.94-2.06-.94-.94-2.06-.94 2.06-2.06.94z\"/><path d=\"M17.41 7.96l-1.37-1.37c-.4-.4-.92-.59-1.43-.59-.52 0-1.04.2-1.43.59L10.3 9.45l-7.72 7.72c-.78.78-.78 2.05 0 2.83L4 21.41c.39.39.9.59 1.41.59.51 0 1.02-.2 1.41-.59l7.78-7.78 2.81-2.81c.8-.78.8-2.07 0-2.86zM5.41 20L4 18.59l7.72-7.72 1.47 1.35L5.41 20z\"/>\n",
              "  </svg>\n",
              "      </button>\n",
              "      \n",
              "  <style>\n",
              "    .colab-df-container {\n",
              "      display:flex;\n",
              "      flex-wrap:wrap;\n",
              "      gap: 12px;\n",
              "    }\n",
              "\n",
              "    .colab-df-convert {\n",
              "      background-color: #E8F0FE;\n",
              "      border: none;\n",
              "      border-radius: 50%;\n",
              "      cursor: pointer;\n",
              "      display: none;\n",
              "      fill: #1967D2;\n",
              "      height: 32px;\n",
              "      padding: 0 0 0 0;\n",
              "      width: 32px;\n",
              "    }\n",
              "\n",
              "    .colab-df-convert:hover {\n",
              "      background-color: #E2EBFA;\n",
              "      box-shadow: 0px 1px 2px rgba(60, 64, 67, 0.3), 0px 1px 3px 1px rgba(60, 64, 67, 0.15);\n",
              "      fill: #174EA6;\n",
              "    }\n",
              "\n",
              "    [theme=dark] .colab-df-convert {\n",
              "      background-color: #3B4455;\n",
              "      fill: #D2E3FC;\n",
              "    }\n",
              "\n",
              "    [theme=dark] .colab-df-convert:hover {\n",
              "      background-color: #434B5C;\n",
              "      box-shadow: 0px 1px 3px 1px rgba(0, 0, 0, 0.15);\n",
              "      filter: drop-shadow(0px 1px 2px rgba(0, 0, 0, 0.3));\n",
              "      fill: #FFFFFF;\n",
              "    }\n",
              "  </style>\n",
              "\n",
              "      <script>\n",
              "        const buttonEl =\n",
              "          document.querySelector('#df-08ac20a7-78a3-4a51-b398-f86f24f3436e button.colab-df-convert');\n",
              "        buttonEl.style.display =\n",
              "          google.colab.kernel.accessAllowed ? 'block' : 'none';\n",
              "\n",
              "        async function convertToInteractive(key) {\n",
              "          const element = document.querySelector('#df-08ac20a7-78a3-4a51-b398-f86f24f3436e');\n",
              "          const dataTable =\n",
              "            await google.colab.kernel.invokeFunction('convertToInteractive',\n",
              "                                                     [key], {});\n",
              "          if (!dataTable) return;\n",
              "\n",
              "          const docLinkHtml = 'Like what you see? Visit the ' +\n",
              "            '<a target=\"_blank\" href=https://colab.research.google.com/notebooks/data_table.ipynb>data table notebook</a>'\n",
              "            + ' to learn more about interactive tables.';\n",
              "          element.innerHTML = '';\n",
              "          dataTable['output_type'] = 'display_data';\n",
              "          await google.colab.output.renderOutput(dataTable, element);\n",
              "          const docLink = document.createElement('div');\n",
              "          docLink.innerHTML = docLinkHtml;\n",
              "          element.appendChild(docLink);\n",
              "        }\n",
              "      </script>\n",
              "    </div>\n",
              "  </div>\n",
              "  "
            ]
          },
          "metadata": {},
          "execution_count": 75
        }
      ]
    },
    {
      "cell_type": "code",
      "source": [
        "result_clf = loaded_clf_model.predict(new_student)\n",
        "print(result_clf)"
      ],
      "metadata": {
        "colab": {
          "base_uri": "https://localhost:8080/"
        },
        "id": "J0L5vl-XiUUq",
        "outputId": "373b16df-981d-4f76-df87-3abe5a015923"
      },
      "execution_count": 76,
      "outputs": [
        {
          "output_type": "stream",
          "name": "stdout",
          "text": [
            "[3]\n"
          ]
        }
      ]
    },
    {
      "cell_type": "code",
      "source": [
        "result_rgs = np.round(loaded_rgs_model.predict(new_student),0)\n",
        "print(result_rgs)"
      ],
      "metadata": {
        "colab": {
          "base_uri": "https://localhost:8080/"
        },
        "id": "RxO2IeD8iul4",
        "outputId": "56d92212-ea9d-48b5-c86b-0d85a0b86f1e"
      },
      "execution_count": 77,
      "outputs": [
        {
          "output_type": "stream",
          "name": "stdout",
          "text": [
            "[12.]\n"
          ]
        }
      ]
    },
    {
      "cell_type": "code",
      "source": [
        ""
      ],
      "metadata": {
        "id": "wwK-PjiRkggJ"
      },
      "execution_count": 64,
      "outputs": []
    }
  ]
}